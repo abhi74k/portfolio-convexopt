{
 "cells": [
  {
   "cell_type": "code",
   "execution_count": 1,
   "id": "initial_id",
   "metadata": {
    "collapsed": true,
    "ExecuteTime": {
     "end_time": "2024-03-02T19:38:45.633048Z",
     "start_time": "2024-03-02T19:38:45.564758Z"
    }
   },
   "outputs": [],
   "source": [
    "import numpy as np"
   ]
  },
  {
   "cell_type": "code",
   "outputs": [
    {
     "data": {
      "text/plain": "array([[ 5,  6, 10, 12],\n       [ 7,  8, 14, 16],\n       [15, 18, 20, 24],\n       [21, 24, 28, 32]])"
     },
     "execution_count": 2,
     "metadata": {},
     "output_type": "execute_result"
    }
   ],
   "source": [
    "A = np.array([[1, 2], [3, 4]])\n",
    "B = np.array([[5, 6], [7, 8]])\n",
    "\n",
    "np.kron(A, B)"
   ],
   "metadata": {
    "collapsed": false,
    "ExecuteTime": {
     "end_time": "2024-03-02T19:38:55.549435Z",
     "start_time": "2024-03-02T19:38:55.542371Z"
    }
   },
   "id": "4f9929ac6c5859f1",
   "execution_count": 2
  },
  {
   "cell_type": "code",
   "outputs": [
    {
     "data": {
      "text/plain": "array([1, 1, 1, 2, 2, 2, 3, 3, 3])"
     },
     "execution_count": 9,
     "metadata": {},
     "output_type": "execute_result"
    }
   ],
   "source": [
    "np.repeat([1, 2, 3], 3)"
   ],
   "metadata": {
    "collapsed": false,
    "ExecuteTime": {
     "end_time": "2024-03-02T19:53:05.521009Z",
     "start_time": "2024-03-02T19:53:05.513947Z"
    }
   },
   "id": "6e4d00de857ccd78",
   "execution_count": 9
  },
  {
   "cell_type": "code",
   "outputs": [
    {
     "data": {
      "text/plain": "array([[1, 2],\n       [1, 2],\n       [3, 4],\n       [3, 4]])"
     },
     "execution_count": 12,
     "metadata": {},
     "output_type": "execute_result"
    }
   ],
   "source": [
    "np.repeat(A, repeats=2, axis=0)"
   ],
   "metadata": {
    "collapsed": false,
    "ExecuteTime": {
     "end_time": "2024-03-02T19:54:26.153455Z",
     "start_time": "2024-03-02T19:54:26.146804Z"
    }
   },
   "id": "b385bdc22d55198e",
   "execution_count": 12
  },
  {
   "cell_type": "code",
   "outputs": [
    {
     "data": {
      "text/plain": "array([[1, 1, 2, 2],\n       [3, 3, 4, 4]])"
     },
     "execution_count": 14,
     "metadata": {},
     "output_type": "execute_result"
    }
   ],
   "source": [
    "np.repeat(A, repeats=2, axis=1)"
   ],
   "metadata": {
    "collapsed": false,
    "ExecuteTime": {
     "end_time": "2024-03-02T19:55:14.495601Z",
     "start_time": "2024-03-02T19:55:14.489595Z"
    }
   },
   "id": "21416862a81cd611",
   "execution_count": 14
  },
  {
   "cell_type": "code",
   "outputs": [
    {
     "data": {
      "text/plain": "array([[0.54340494, 0.27836939],\n       [0.42451759, 0.84477613]])"
     },
     "execution_count": 17,
     "metadata": {},
     "output_type": "execute_result"
    }
   ],
   "source": [
    "rs = np.random.RandomState(seed=100)\n",
    "rs.rand(2, 2)"
   ],
   "metadata": {
    "collapsed": false,
    "ExecuteTime": {
     "end_time": "2024-03-02T19:56:17.790764Z",
     "start_time": "2024-03-02T19:56:17.784558Z"
    }
   },
   "id": "f3176ba46cebe486",
   "execution_count": 17
  },
  {
   "cell_type": "code",
   "outputs": [
    {
     "data": {
      "text/plain": "array([[ 0.81684707,  0.67272081, -0.10441114],\n       [-0.53128038,  1.02973269, -0.43813562],\n       [-1.11831825,  1.61898166,  1.54160517]])"
     },
     "execution_count": 19,
     "metadata": {},
     "output_type": "execute_result"
    }
   ],
   "source": [
    "rs.randn(3, 3) # standard normal distribution"
   ],
   "metadata": {
    "collapsed": false,
    "ExecuteTime": {
     "end_time": "2024-03-02T19:56:56.946683Z",
     "start_time": "2024-03-02T19:56:56.939835Z"
    }
   },
   "id": "493b4be11bedd3f4",
   "execution_count": 19
  },
  {
   "cell_type": "code",
   "outputs": [
    {
     "data": {
      "text/plain": "array([[2.74812086, 2.15756426, 3.18451869],\n       [3.9370822 , 3.73100034, 4.36155613],\n       [2.67376194, 3.05567601, 3.22239961]])"
     },
     "execution_count": 20,
     "metadata": {},
     "output_type": "execute_result"
    }
   ],
   "source": [
    "mu = 1\n",
    "sigma = 2\n",
    "\n",
    "sigma + rs.randn(3, 3) + mu"
   ],
   "metadata": {
    "collapsed": false,
    "ExecuteTime": {
     "end_time": "2024-03-02T19:57:29.216183Z",
     "start_time": "2024-03-02T19:57:29.212606Z"
    }
   },
   "id": "ba3c4c8d0ac641a6",
   "execution_count": 20
  },
  {
   "cell_type": "code",
   "outputs": [
    {
     "name": "stdout",
     "output_type": "stream",
     "text": [
      "[0.52537413 0.43606668 0.52268272]\n",
      "[0.29089731 0.29362863 0.2931707 ]\n"
     ]
    }
   ],
   "source": [
    "X = rs.rand(100, 3)\n",
    "print(np.mean(X, axis=0))\n",
    "print(np.std(X, axis=0))"
   ],
   "metadata": {
    "collapsed": false,
    "ExecuteTime": {
     "end_time": "2024-03-02T20:07:21.550192Z",
     "start_time": "2024-03-02T20:07:21.547241Z"
    }
   },
   "id": "fd77571076c84ddf",
   "execution_count": 28
  },
  {
   "cell_type": "code",
   "outputs": [
    {
     "data": {
      "text/plain": "array([[ 0.08547601, -0.0091206 ,  0.00026219],\n       [-0.0091206 ,  0.08708866,  0.01015601],\n       [ 0.00026219,  0.01015601,  0.08681723]])"
     },
     "execution_count": 31,
     "metadata": {},
     "output_type": "execute_result"
    }
   ],
   "source": [
    "np.cov(X, rowvar=False, ddof=1)"
   ],
   "metadata": {
    "collapsed": false,
    "ExecuteTime": {
     "end_time": "2024-03-02T20:20:25.362914Z",
     "start_time": "2024-03-02T20:20:25.356127Z"
    }
   },
   "id": "62aec5a973a4841a",
   "execution_count": 31
  },
  {
   "cell_type": "code",
   "outputs": [
    {
     "name": "stderr",
     "output_type": "stream",
     "text": [
      "[*********************100%%**********************]  4 of 4 completed\n"
     ]
    },
    {
     "data": {
      "text/plain": "Price       Adj Close                                        Close             \\\nTicker           AAPL       AMZN       CSCO         IBM       AAPL       AMZN   \nDate                                                                            \n2017-01-03  26.989267  37.683498  24.399662  114.304199  29.037500  37.683498   \n2017-01-04  26.959059  37.859001  24.254618  115.719406  29.004999  37.859001   \n2017-01-05  27.096151  39.022499  24.311012  115.336533  29.152500  39.022499   \n2017-01-06  27.398235  39.799500  24.359367  115.903969  29.477501  39.799500   \n2017-01-09  27.649185  39.846001  24.319082  114.618683  29.747499  39.846001   \n\nPrice                                   High             ...        Low  \\\nTicker           CSCO         IBM       AAPL       AMZN  ...       CSCO   \nDate                                                     ...              \n2017-01-03  30.540001  159.837479  29.082500  37.938000  ...  30.209999   \n2017-01-04  30.100000  161.816437  29.127501  37.984001  ...  30.020000   \n2017-01-05  30.170000  161.281067  29.215000  39.119999  ...  30.070000   \n2017-01-06  30.230000  162.074570  29.540001  39.972000  ...  30.030001   \n2017-01-09  30.180000  160.277252  29.857500  40.088501  ...  30.080000   \n\nPrice                        Open                                    \\\nTicker             IBM       AAPL       AMZN       CSCO         IBM   \nDate                                                                  \n2017-01-03  158.709366  28.950001  37.896000  30.370001  159.655838   \n2017-01-04  160.000000  28.962500  37.919498  30.240000  160.391968   \n2017-01-05  159.904404  28.980000  38.077499  30.100000  161.806885   \n2017-01-06  160.152969  29.195000  39.118000  30.170000  161.271515   \n2017-01-09  160.248566  29.487499  39.900002  30.219999  162.017212   \n\nPrice          Volume                                \nTicker           AAPL       AMZN      CSCO      IBM  \nDate                                                 \n2017-01-03  115127600   70422000  22370600  3069278  \n2017-01-04   84472400   50210000  22281000  3536944  \n2017-01-05   88774400  116602000  18372500  2805686  \n2017-01-06  127007600  119724000  15923200  3080993  \n2017-01-09  134247600   68922000  17177800  3336635  \n\n[5 rows x 24 columns]",
      "text/html": "<div>\n<style scoped>\n    .dataframe tbody tr th:only-of-type {\n        vertical-align: middle;\n    }\n\n    .dataframe tbody tr th {\n        vertical-align: top;\n    }\n\n    .dataframe thead tr th {\n        text-align: left;\n    }\n\n    .dataframe thead tr:last-of-type th {\n        text-align: right;\n    }\n</style>\n<table border=\"1\" class=\"dataframe\">\n  <thead>\n    <tr>\n      <th>Price</th>\n      <th colspan=\"4\" halign=\"left\">Adj Close</th>\n      <th colspan=\"4\" halign=\"left\">Close</th>\n      <th colspan=\"2\" halign=\"left\">High</th>\n      <th>...</th>\n      <th colspan=\"2\" halign=\"left\">Low</th>\n      <th colspan=\"4\" halign=\"left\">Open</th>\n      <th colspan=\"4\" halign=\"left\">Volume</th>\n    </tr>\n    <tr>\n      <th>Ticker</th>\n      <th>AAPL</th>\n      <th>AMZN</th>\n      <th>CSCO</th>\n      <th>IBM</th>\n      <th>AAPL</th>\n      <th>AMZN</th>\n      <th>CSCO</th>\n      <th>IBM</th>\n      <th>AAPL</th>\n      <th>AMZN</th>\n      <th>...</th>\n      <th>CSCO</th>\n      <th>IBM</th>\n      <th>AAPL</th>\n      <th>AMZN</th>\n      <th>CSCO</th>\n      <th>IBM</th>\n      <th>AAPL</th>\n      <th>AMZN</th>\n      <th>CSCO</th>\n      <th>IBM</th>\n    </tr>\n    <tr>\n      <th>Date</th>\n      <th></th>\n      <th></th>\n      <th></th>\n      <th></th>\n      <th></th>\n      <th></th>\n      <th></th>\n      <th></th>\n      <th></th>\n      <th></th>\n      <th></th>\n      <th></th>\n      <th></th>\n      <th></th>\n      <th></th>\n      <th></th>\n      <th></th>\n      <th></th>\n      <th></th>\n      <th></th>\n      <th></th>\n    </tr>\n  </thead>\n  <tbody>\n    <tr>\n      <th>2017-01-03</th>\n      <td>26.989267</td>\n      <td>37.683498</td>\n      <td>24.399662</td>\n      <td>114.304199</td>\n      <td>29.037500</td>\n      <td>37.683498</td>\n      <td>30.540001</td>\n      <td>159.837479</td>\n      <td>29.082500</td>\n      <td>37.938000</td>\n      <td>...</td>\n      <td>30.209999</td>\n      <td>158.709366</td>\n      <td>28.950001</td>\n      <td>37.896000</td>\n      <td>30.370001</td>\n      <td>159.655838</td>\n      <td>115127600</td>\n      <td>70422000</td>\n      <td>22370600</td>\n      <td>3069278</td>\n    </tr>\n    <tr>\n      <th>2017-01-04</th>\n      <td>26.959059</td>\n      <td>37.859001</td>\n      <td>24.254618</td>\n      <td>115.719406</td>\n      <td>29.004999</td>\n      <td>37.859001</td>\n      <td>30.100000</td>\n      <td>161.816437</td>\n      <td>29.127501</td>\n      <td>37.984001</td>\n      <td>...</td>\n      <td>30.020000</td>\n      <td>160.000000</td>\n      <td>28.962500</td>\n      <td>37.919498</td>\n      <td>30.240000</td>\n      <td>160.391968</td>\n      <td>84472400</td>\n      <td>50210000</td>\n      <td>22281000</td>\n      <td>3536944</td>\n    </tr>\n    <tr>\n      <th>2017-01-05</th>\n      <td>27.096151</td>\n      <td>39.022499</td>\n      <td>24.311012</td>\n      <td>115.336533</td>\n      <td>29.152500</td>\n      <td>39.022499</td>\n      <td>30.170000</td>\n      <td>161.281067</td>\n      <td>29.215000</td>\n      <td>39.119999</td>\n      <td>...</td>\n      <td>30.070000</td>\n      <td>159.904404</td>\n      <td>28.980000</td>\n      <td>38.077499</td>\n      <td>30.100000</td>\n      <td>161.806885</td>\n      <td>88774400</td>\n      <td>116602000</td>\n      <td>18372500</td>\n      <td>2805686</td>\n    </tr>\n    <tr>\n      <th>2017-01-06</th>\n      <td>27.398235</td>\n      <td>39.799500</td>\n      <td>24.359367</td>\n      <td>115.903969</td>\n      <td>29.477501</td>\n      <td>39.799500</td>\n      <td>30.230000</td>\n      <td>162.074570</td>\n      <td>29.540001</td>\n      <td>39.972000</td>\n      <td>...</td>\n      <td>30.030001</td>\n      <td>160.152969</td>\n      <td>29.195000</td>\n      <td>39.118000</td>\n      <td>30.170000</td>\n      <td>161.271515</td>\n      <td>127007600</td>\n      <td>119724000</td>\n      <td>15923200</td>\n      <td>3080993</td>\n    </tr>\n    <tr>\n      <th>2017-01-09</th>\n      <td>27.649185</td>\n      <td>39.846001</td>\n      <td>24.319082</td>\n      <td>114.618683</td>\n      <td>29.747499</td>\n      <td>39.846001</td>\n      <td>30.180000</td>\n      <td>160.277252</td>\n      <td>29.857500</td>\n      <td>40.088501</td>\n      <td>...</td>\n      <td>30.080000</td>\n      <td>160.248566</td>\n      <td>29.487499</td>\n      <td>39.900002</td>\n      <td>30.219999</td>\n      <td>162.017212</td>\n      <td>134247600</td>\n      <td>68922000</td>\n      <td>17177800</td>\n      <td>3336635</td>\n    </tr>\n  </tbody>\n</table>\n<p>5 rows × 24 columns</p>\n</div>"
     },
     "execution_count": 33,
     "metadata": {},
     "output_type": "execute_result"
    }
   ],
   "source": [
    "import yfinance as yf\n",
    "\n",
    "assets = ['AAPL', 'CSCO', 'IBM', 'AMZN']\n",
    "data = yf.download(assets, start='2017-01-01', end='2019-01-01')\n",
    "data.head()"
   ],
   "metadata": {
    "collapsed": false,
    "ExecuteTime": {
     "end_time": "2024-03-02T20:21:13.578383Z",
     "start_time": "2024-03-02T20:21:13.202327Z"
    }
   },
   "id": "50b050f75ab27667",
   "execution_count": 33
  },
  {
   "cell_type": "code",
   "outputs": [
    {
     "data": {
      "text/plain": "Price       Adj Close                                  \nTicker           AAPL       AMZN       CSCO         IBM\nDate                                                   \n2017-01-03  26.989267  37.683498  24.399662  114.304199\n2017-01-04  26.959059  37.859001  24.254618  115.719406\n2017-01-05  27.096151  39.022499  24.311012  115.336533\n2017-01-06  27.398235  39.799500  24.359367  115.903969\n2017-01-09  27.649185  39.846001  24.319082  114.618683\n...               ...        ...        ...         ...\n2018-12-24  35.187366  67.197998  34.344910   79.851288\n2018-12-26  37.665310  73.544998  36.212231   82.686943\n2018-12-27  37.420868  73.082001  36.587399   84.461090\n2018-12-28  37.440033  73.901001  36.468021   83.904350\n2018-12-31  37.801910  75.098503  36.945511   84.379448\n\n[502 rows x 4 columns]",
      "text/html": "<div>\n<style scoped>\n    .dataframe tbody tr th:only-of-type {\n        vertical-align: middle;\n    }\n\n    .dataframe tbody tr th {\n        vertical-align: top;\n    }\n\n    .dataframe thead tr th {\n        text-align: left;\n    }\n\n    .dataframe thead tr:last-of-type th {\n        text-align: right;\n    }\n</style>\n<table border=\"1\" class=\"dataframe\">\n  <thead>\n    <tr>\n      <th>Price</th>\n      <th colspan=\"4\" halign=\"left\">Adj Close</th>\n    </tr>\n    <tr>\n      <th>Ticker</th>\n      <th>AAPL</th>\n      <th>AMZN</th>\n      <th>CSCO</th>\n      <th>IBM</th>\n    </tr>\n    <tr>\n      <th>Date</th>\n      <th></th>\n      <th></th>\n      <th></th>\n      <th></th>\n    </tr>\n  </thead>\n  <tbody>\n    <tr>\n      <th>2017-01-03</th>\n      <td>26.989267</td>\n      <td>37.683498</td>\n      <td>24.399662</td>\n      <td>114.304199</td>\n    </tr>\n    <tr>\n      <th>2017-01-04</th>\n      <td>26.959059</td>\n      <td>37.859001</td>\n      <td>24.254618</td>\n      <td>115.719406</td>\n    </tr>\n    <tr>\n      <th>2017-01-05</th>\n      <td>27.096151</td>\n      <td>39.022499</td>\n      <td>24.311012</td>\n      <td>115.336533</td>\n    </tr>\n    <tr>\n      <th>2017-01-06</th>\n      <td>27.398235</td>\n      <td>39.799500</td>\n      <td>24.359367</td>\n      <td>115.903969</td>\n    </tr>\n    <tr>\n      <th>2017-01-09</th>\n      <td>27.649185</td>\n      <td>39.846001</td>\n      <td>24.319082</td>\n      <td>114.618683</td>\n    </tr>\n    <tr>\n      <th>...</th>\n      <td>...</td>\n      <td>...</td>\n      <td>...</td>\n      <td>...</td>\n    </tr>\n    <tr>\n      <th>2018-12-24</th>\n      <td>35.187366</td>\n      <td>67.197998</td>\n      <td>34.344910</td>\n      <td>79.851288</td>\n    </tr>\n    <tr>\n      <th>2018-12-26</th>\n      <td>37.665310</td>\n      <td>73.544998</td>\n      <td>36.212231</td>\n      <td>82.686943</td>\n    </tr>\n    <tr>\n      <th>2018-12-27</th>\n      <td>37.420868</td>\n      <td>73.082001</td>\n      <td>36.587399</td>\n      <td>84.461090</td>\n    </tr>\n    <tr>\n      <th>2018-12-28</th>\n      <td>37.440033</td>\n      <td>73.901001</td>\n      <td>36.468021</td>\n      <td>83.904350</td>\n    </tr>\n    <tr>\n      <th>2018-12-31</th>\n      <td>37.801910</td>\n      <td>75.098503</td>\n      <td>36.945511</td>\n      <td>84.379448</td>\n    </tr>\n  </tbody>\n</table>\n<p>502 rows × 4 columns</p>\n</div>"
     },
     "execution_count": 49,
     "metadata": {},
     "output_type": "execute_result"
    }
   ],
   "source": [
    "prices_pd = data.loc[:, ('Adj Close', slice(None))]\n",
    "prices_pd"
   ],
   "metadata": {
    "collapsed": false,
    "ExecuteTime": {
     "end_time": "2024-03-03T00:20:49.236213Z",
     "start_time": "2024-03-03T00:20:49.232959Z"
    }
   },
   "id": "bcd2309e0e5622bc",
   "execution_count": 49
  },
  {
   "cell_type": "code",
   "outputs": [
    {
     "data": {
      "text/plain": "                 AAPL       AMZN       CSCO         IBM\nDate                                                   \n2017-01-03  26.989267  37.683498  24.399662  114.304199\n2017-01-04  26.959059  37.859001  24.254618  115.719406\n2017-01-05  27.096151  39.022499  24.311012  115.336533\n2017-01-06  27.398235  39.799500  24.359367  115.903969\n2017-01-09  27.649185  39.846001  24.319082  114.618683\n...               ...        ...        ...         ...\n2018-12-24  35.187366  67.197998  34.344910   79.851288\n2018-12-26  37.665310  73.544998  36.212231   82.686943\n2018-12-27  37.420868  73.082001  36.587399   84.461090\n2018-12-28  37.440033  73.901001  36.468021   83.904350\n2018-12-31  37.801910  75.098503  36.945511   84.379448\n\n[502 rows x 4 columns]",
      "text/html": "<div>\n<style scoped>\n    .dataframe tbody tr th:only-of-type {\n        vertical-align: middle;\n    }\n\n    .dataframe tbody tr th {\n        vertical-align: top;\n    }\n\n    .dataframe thead th {\n        text-align: right;\n    }\n</style>\n<table border=\"1\" class=\"dataframe\">\n  <thead>\n    <tr style=\"text-align: right;\">\n      <th></th>\n      <th>AAPL</th>\n      <th>AMZN</th>\n      <th>CSCO</th>\n      <th>IBM</th>\n    </tr>\n    <tr>\n      <th>Date</th>\n      <th></th>\n      <th></th>\n      <th></th>\n      <th></th>\n    </tr>\n  </thead>\n  <tbody>\n    <tr>\n      <th>2017-01-03</th>\n      <td>26.989267</td>\n      <td>37.683498</td>\n      <td>24.399662</td>\n      <td>114.304199</td>\n    </tr>\n    <tr>\n      <th>2017-01-04</th>\n      <td>26.959059</td>\n      <td>37.859001</td>\n      <td>24.254618</td>\n      <td>115.719406</td>\n    </tr>\n    <tr>\n      <th>2017-01-05</th>\n      <td>27.096151</td>\n      <td>39.022499</td>\n      <td>24.311012</td>\n      <td>115.336533</td>\n    </tr>\n    <tr>\n      <th>2017-01-06</th>\n      <td>27.398235</td>\n      <td>39.799500</td>\n      <td>24.359367</td>\n      <td>115.903969</td>\n    </tr>\n    <tr>\n      <th>2017-01-09</th>\n      <td>27.649185</td>\n      <td>39.846001</td>\n      <td>24.319082</td>\n      <td>114.618683</td>\n    </tr>\n    <tr>\n      <th>...</th>\n      <td>...</td>\n      <td>...</td>\n      <td>...</td>\n      <td>...</td>\n    </tr>\n    <tr>\n      <th>2018-12-24</th>\n      <td>35.187366</td>\n      <td>67.197998</td>\n      <td>34.344910</td>\n      <td>79.851288</td>\n    </tr>\n    <tr>\n      <th>2018-12-26</th>\n      <td>37.665310</td>\n      <td>73.544998</td>\n      <td>36.212231</td>\n      <td>82.686943</td>\n    </tr>\n    <tr>\n      <th>2018-12-27</th>\n      <td>37.420868</td>\n      <td>73.082001</td>\n      <td>36.587399</td>\n      <td>84.461090</td>\n    </tr>\n    <tr>\n      <th>2018-12-28</th>\n      <td>37.440033</td>\n      <td>73.901001</td>\n      <td>36.468021</td>\n      <td>83.904350</td>\n    </tr>\n    <tr>\n      <th>2018-12-31</th>\n      <td>37.801910</td>\n      <td>75.098503</td>\n      <td>36.945511</td>\n      <td>84.379448</td>\n    </tr>\n  </tbody>\n</table>\n<p>502 rows × 4 columns</p>\n</div>"
     },
     "execution_count": 52,
     "metadata": {},
     "output_type": "execute_result"
    }
   ],
   "source": [
    "prices_pd.columns = ['AAPL', 'AMZN', 'CSCO', 'IBM']\n",
    "prices_pd"
   ],
   "metadata": {
    "collapsed": false,
    "ExecuteTime": {
     "end_time": "2024-03-03T00:21:39.133955Z",
     "start_time": "2024-03-03T00:21:39.129939Z"
    }
   },
   "id": "487c90f59bd417c1",
   "execution_count": 52
  },
  {
   "cell_type": "code",
   "outputs": [
    {
     "data": {
      "text/plain": "                AAPL      AMZN      CSCO       IBM\nDate                                              \n2017-01-04 -0.001120  0.004646 -0.005962  0.012305\n2017-01-05  0.005072  0.030270  0.002322 -0.003314\n2017-01-06  0.011087  0.019716  0.001987  0.004908\n2017-01-09  0.009118  0.001168 -0.001655 -0.011151\n2017-01-10  0.001008 -0.001281  0.006605 -0.012786\n...              ...       ...       ...       ...\n2018-12-24 -0.026215 -0.024613 -0.038237 -0.030848\n2018-12-26  0.068052  0.090254  0.052943  0.034896\n2018-12-27 -0.006511 -0.006315  0.010307  0.021229\n2018-12-28  0.000512  0.011144 -0.003268 -0.006613\n2018-12-31  0.009619  0.016074  0.013008  0.005646\n\n[501 rows x 4 columns]",
      "text/html": "<div>\n<style scoped>\n    .dataframe tbody tr th:only-of-type {\n        vertical-align: middle;\n    }\n\n    .dataframe tbody tr th {\n        vertical-align: top;\n    }\n\n    .dataframe thead th {\n        text-align: right;\n    }\n</style>\n<table border=\"1\" class=\"dataframe\">\n  <thead>\n    <tr style=\"text-align: right;\">\n      <th></th>\n      <th>AAPL</th>\n      <th>AMZN</th>\n      <th>CSCO</th>\n      <th>IBM</th>\n    </tr>\n    <tr>\n      <th>Date</th>\n      <th></th>\n      <th></th>\n      <th></th>\n      <th></th>\n    </tr>\n  </thead>\n  <tbody>\n    <tr>\n      <th>2017-01-04</th>\n      <td>-0.001120</td>\n      <td>0.004646</td>\n      <td>-0.005962</td>\n      <td>0.012305</td>\n    </tr>\n    <tr>\n      <th>2017-01-05</th>\n      <td>0.005072</td>\n      <td>0.030270</td>\n      <td>0.002322</td>\n      <td>-0.003314</td>\n    </tr>\n    <tr>\n      <th>2017-01-06</th>\n      <td>0.011087</td>\n      <td>0.019716</td>\n      <td>0.001987</td>\n      <td>0.004908</td>\n    </tr>\n    <tr>\n      <th>2017-01-09</th>\n      <td>0.009118</td>\n      <td>0.001168</td>\n      <td>-0.001655</td>\n      <td>-0.011151</td>\n    </tr>\n    <tr>\n      <th>2017-01-10</th>\n      <td>0.001008</td>\n      <td>-0.001281</td>\n      <td>0.006605</td>\n      <td>-0.012786</td>\n    </tr>\n    <tr>\n      <th>...</th>\n      <td>...</td>\n      <td>...</td>\n      <td>...</td>\n      <td>...</td>\n    </tr>\n    <tr>\n      <th>2018-12-24</th>\n      <td>-0.026215</td>\n      <td>-0.024613</td>\n      <td>-0.038237</td>\n      <td>-0.030848</td>\n    </tr>\n    <tr>\n      <th>2018-12-26</th>\n      <td>0.068052</td>\n      <td>0.090254</td>\n      <td>0.052943</td>\n      <td>0.034896</td>\n    </tr>\n    <tr>\n      <th>2018-12-27</th>\n      <td>-0.006511</td>\n      <td>-0.006315</td>\n      <td>0.010307</td>\n      <td>0.021229</td>\n    </tr>\n    <tr>\n      <th>2018-12-28</th>\n      <td>0.000512</td>\n      <td>0.011144</td>\n      <td>-0.003268</td>\n      <td>-0.006613</td>\n    </tr>\n    <tr>\n      <th>2018-12-31</th>\n      <td>0.009619</td>\n      <td>0.016074</td>\n      <td>0.013008</td>\n      <td>0.005646</td>\n    </tr>\n  </tbody>\n</table>\n<p>501 rows × 4 columns</p>\n</div>"
     },
     "execution_count": 62,
     "metadata": {},
     "output_type": "execute_result"
    }
   ],
   "source": [
    "daily_returns_pd = np.log(prices_pd / prices_pd.shift(1))\n",
    "daily_returns_pd.dropna(inplace=True)\n",
    "daily_returns_pd"
   ],
   "metadata": {
    "collapsed": false,
    "ExecuteTime": {
     "end_time": "2024-03-03T00:26:34.287564Z",
     "start_time": "2024-03-03T00:26:34.275595Z"
    }
   },
   "id": "28a122e85758c6f",
   "execution_count": 62
  },
  {
   "cell_type": "code",
   "outputs": [
    {
     "data": {
      "text/plain": "array([ 0.0006725 ,  0.0013764 ,  0.00082809, -0.00060587])"
     },
     "execution_count": 66,
     "metadata": {},
     "output_type": "execute_result"
    }
   ],
   "source": [
    "mu = daily_returns_pd.mean().to_numpy()\n",
    "mu"
   ],
   "metadata": {
    "collapsed": false,
    "ExecuteTime": {
     "end_time": "2024-03-03T00:27:16.979088Z",
     "start_time": "2024-03-03T00:27:16.976468Z"
    }
   },
   "id": "da555b5eeffebb20",
   "execution_count": 66
  },
  {
   "cell_type": "code",
   "outputs": [
    {
     "data": {
      "text/plain": "array([0.01503463, 0.01851482, 0.01372969, 0.01305533])"
     },
     "execution_count": 68,
     "metadata": {},
     "output_type": "execute_result"
    }
   ],
   "source": [
    "sigma = daily_returns_pd.std().to_numpy()\n",
    "sigma"
   ],
   "metadata": {
    "collapsed": false,
    "ExecuteTime": {
     "end_time": "2024-03-03T00:27:43.098368Z",
     "start_time": "2024-03-03T00:27:43.095190Z"
    }
   },
   "id": "7408446acae507c8",
   "execution_count": 68
  },
  {
   "cell_type": "code",
   "outputs": [
    {
     "data": {
      "text/plain": "array([-0.11676368,  0.23740979, -0.49186676, -0.61854905])"
     },
     "execution_count": 71,
     "metadata": {},
     "output_type": "execute_result"
    }
   ],
   "source": [
    "skew = daily_returns_pd.skew().to_numpy()\n",
    "skew"
   ],
   "metadata": {
    "collapsed": false,
    "ExecuteTime": {
     "end_time": "2024-03-03T00:28:13.204132Z",
     "start_time": "2024-03-03T00:28:13.201242Z"
    }
   },
   "id": "65ff19d1177cccd4",
   "execution_count": 71
  },
  {
   "cell_type": "code",
   "outputs": [
    {
     "data": {
      "text/plain": "array([3.32603135, 7.03913853, 4.11345414, 9.31083125])"
     },
     "execution_count": 72,
     "metadata": {},
     "output_type": "execute_result"
    }
   ],
   "source": [
    "kurtosis = daily_returns_pd.kurtosis().to_numpy()\n",
    "kurtosis"
   ],
   "metadata": {
    "collapsed": false,
    "ExecuteTime": {
     "end_time": "2024-03-03T00:28:22.582060Z",
     "start_time": "2024-03-03T00:28:22.578325Z"
    }
   },
   "id": "8b81bad54209a78b",
   "execution_count": 72
  },
  {
   "cell_type": "code",
   "outputs": [
    {
     "data": {
      "text/plain": "array([[2.26039970e-04, 1.73260579e-04, 1.10563145e-04, 6.85164472e-05],\n       [1.73260579e-04, 3.42798706e-04, 1.41581988e-04, 8.34238324e-05],\n       [1.10563145e-04, 1.41581988e-04, 1.88504316e-04, 8.48717797e-05],\n       [6.85164472e-05, 8.34238324e-05, 8.48717797e-05, 1.70441711e-04]])"
     },
     "execution_count": 73,
     "metadata": {},
     "output_type": "execute_result"
    }
   ],
   "source": [
    "np.cov(daily_returns_pd, rowvar=False, ddof=1)"
   ],
   "metadata": {
    "collapsed": false,
    "ExecuteTime": {
     "end_time": "2024-03-03T00:28:28.664742Z",
     "start_time": "2024-03-03T00:28:28.660201Z"
    }
   },
   "id": "c88a3e58563b04b",
   "execution_count": 73
  },
  {
   "cell_type": "code",
   "execution_count": 96,
   "outputs": [
    {
     "data": {
      "text/plain": "array([[ 0.03700558,  0.00848823, -0.00807066, ...,  0.01005167,\n        -0.02585648,  0.01734145],\n       [ 0.03037598, -0.01953678,  0.01209264, ...,  0.02285461,\n        -0.01776212,  0.03378611],\n       [ 0.02436958, -0.01130354,  0.00136108, ...,  0.01694591,\n         0.01142128,  0.04338997],\n       [ 0.0096543 , -0.00230862,  0.00055598, ...,  0.00865667,\n        -0.01058843,  0.02807276]])"
     },
     "execution_count": 96,
     "metadata": {},
     "output_type": "execute_result"
    }
   ],
   "source": [
    "Sigma = np.cov(daily_returns_pd, rowvar=False, ddof=1)\n",
    "Mu = daily_returns_pd.mean().to_numpy()\n",
    "L = np.linalg.cholesky(Sigma)\n",
    "Z = rs.randn(1000, 4)\n",
    "Y = L @ Z.T + Mu.reshape(-1, 1)\n",
    "NewSigma = np.cov(Y, ddof=1)\n",
    "Y"
   ],
   "metadata": {
    "collapsed": false
   },
   "id": "93aa0b33d6e553e6"
  },
  {
   "cell_type": "code",
   "outputs": [
    {
     "name": "stdout",
     "output_type": "stream",
     "text": [
      "Old Sigma: [[2.26039970e-04 1.73260579e-04 1.10563145e-04 6.85164472e-05]\n",
      " [1.73260579e-04 3.42798706e-04 1.41581988e-04 8.34238324e-05]\n",
      " [1.10563145e-04 1.41581988e-04 1.88504316e-04 8.48717797e-05]\n",
      " [6.85164472e-05 8.34238324e-05 8.48717797e-05 1.70441711e-04]]\n",
      "New Sigma: [[2.40990840e-04 1.72526211e-04 1.01185170e-04 6.85583191e-05]\n",
      " [1.72526211e-04 3.49107584e-04 1.43975073e-04 8.85837281e-05]\n",
      " [1.01185170e-04 1.43975073e-04 1.90821116e-04 8.92414961e-05]\n",
      " [6.85583191e-05 8.85837281e-05 8.92414961e-05 1.72202595e-04]]\n"
     ]
    }
   ],
   "source": [
    "print(f\"Old Sigma: {Sigma}\")\n",
    "print(f\"New Sigma: {NewSigma}\")"
   ],
   "metadata": {
    "collapsed": false,
    "ExecuteTime": {
     "end_time": "2024-03-03T15:41:53.169382Z",
     "start_time": "2024-03-03T15:41:53.165977Z"
    }
   },
   "id": "b7cda7eae68a6f2e",
   "execution_count": 97
  },
  {
   "cell_type": "code",
   "outputs": [
    {
     "data": {
      "text/plain": "1.495086914000664e-05"
     },
     "execution_count": 98,
     "metadata": {},
     "output_type": "execute_result"
    }
   ],
   "source": [
    "np.abs(Sigma - NewSigma).max()"
   ],
   "metadata": {
    "collapsed": false,
    "ExecuteTime": {
     "end_time": "2024-03-03T15:41:55.791788Z",
     "start_time": "2024-03-03T15:41:55.787473Z"
    }
   },
   "id": "ef356b5f22fb033a",
   "execution_count": 98
  }
 ],
 "metadata": {
  "kernelspec": {
   "display_name": "Python 3",
   "language": "python",
   "name": "python3"
  },
  "language_info": {
   "codemirror_mode": {
    "name": "ipython",
    "version": 2
   },
   "file_extension": ".py",
   "mimetype": "text/x-python",
   "name": "python",
   "nbconvert_exporter": "python",
   "pygments_lexer": "ipython2",
   "version": "2.7.6"
  }
 },
 "nbformat": 4,
 "nbformat_minor": 5
}
