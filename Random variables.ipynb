{
 "cells": [
  {
   "cell_type": "code",
   "execution_count": 6,
   "id": "initial_id",
   "metadata": {
    "collapsed": true,
    "ExecuteTime": {
     "end_time": "2024-03-12T06:09:52.430713Z",
     "start_time": "2024-03-12T06:09:51.384791200Z"
    }
   },
   "outputs": [],
   "source": [
    "import numpy as np\n",
    "import yfinance as yf\n",
    "import scipy.stats as st"
   ]
  },
  {
   "cell_type": "markdown",
   "source": [
    "### Random state for reproducibility"
   ],
   "metadata": {
    "collapsed": false
   },
   "id": "e0f3ff540fcba059"
  },
  {
   "cell_type": "code",
   "execution_count": 2,
   "outputs": [],
   "source": [
    "rs = np.random.RandomState(seed=100)"
   ],
   "metadata": {
    "collapsed": false,
    "ExecuteTime": {
     "end_time": "2024-03-10T18:01:11.519251800Z",
     "start_time": "2024-03-10T18:01:11.423853800Z"
    }
   },
   "id": "525b8d4a3b512c06"
  },
  {
   "cell_type": "markdown",
   "source": [
    "### Mean, standard deviation and covariance"
   ],
   "metadata": {
    "collapsed": false
   },
   "id": "cd5f8784287740a7"
  },
  {
   "cell_type": "code",
   "execution_count": 22,
   "outputs": [
    {
     "name": "stdout",
     "output_type": "stream",
     "text": [
      "Mean:\n",
      " [0.50020728 0.50375054 0.51967753]\n",
      "Standard deviation:\n",
      " [0.28113481 0.29302848 0.2926356 ]\n",
      "Covariance:\n",
      " [[ 0.07983513 -0.00219274 -0.01044092]\n",
      " [-0.00219274  0.08673302  0.00588785]\n",
      " [-0.01044092  0.00588785  0.0865006 ]]\n"
     ]
    }
   ],
   "source": [
    "num_samples = 100\n",
    "num_stock_returns = 3\n",
    "X = rs.rand(num_samples, num_stock_returns)  \n",
    "print(f\"Mean:\\n\", np.mean(X, axis=0))\n",
    "print(f\"Standard deviation:\\n\", np.std(X, axis=0))\n",
    "\n",
    "\"\"\"\n",
    "np.cov() assumes that each row is a variable and each column is an observation. Pass rowvar=False to indicate that each column is a variable and each row is an observation.\n",
    "\"\"\"\n",
    "print(f\"Covariance:\\n\", np.cov(X, rowvar=False, ddof=1))"
   ],
   "metadata": {
    "collapsed": false,
    "ExecuteTime": {
     "end_time": "2024-03-10T18:39:26.736464800Z",
     "start_time": "2024-03-10T18:39:26.673181400Z"
    }
   },
   "id": "7b7177b053b5989f"
  },
  {
   "cell_type": "markdown",
   "source": [
    "### Samples from uniform distribution"
   ],
   "metadata": {
    "collapsed": false
   },
   "id": "954dddecc224e508"
  },
  {
   "cell_type": "code",
   "execution_count": 24,
   "outputs": [
    {
     "data": {
      "text/plain": "array([[0.18899771, 0.51658582],\n       [0.80484256, 0.22853715]])"
     },
     "execution_count": 24,
     "metadata": {},
     "output_type": "execute_result"
    }
   ],
   "source": [
    "rs.rand(2, 2)"
   ],
   "metadata": {
    "collapsed": false,
    "ExecuteTime": {
     "end_time": "2024-03-10T18:39:56.681852300Z",
     "start_time": "2024-03-10T18:39:56.620759200Z"
    }
   },
   "id": "e37071780825d4a3"
  },
  {
   "cell_type": "markdown",
   "source": [
    "### Samples from standard normal distribution"
   ],
   "metadata": {
    "collapsed": false
   },
   "id": "3783192c269c94be"
  },
  {
   "cell_type": "code",
   "execution_count": 23,
   "outputs": [
    {
     "data": {
      "text/plain": "array([[ 1.02973269e+00,  9.86687347e-03,  9.53420338e-01],\n       [-5.55246923e-01,  5.22770324e-01, -1.04070697e+00],\n       [ 4.82990601e-04,  1.00350734e+00, -1.24880773e+00]])"
     },
     "execution_count": 23,
     "metadata": {},
     "output_type": "execute_result"
    }
   ],
   "source": [
    "rs.randn(3, 3)"
   ],
   "metadata": {
    "collapsed": false,
    "ExecuteTime": {
     "end_time": "2024-03-10T18:39:48.720956400Z",
     "start_time": "2024-03-10T18:39:48.626705Z"
    }
   },
   "id": "d5ea4fca85421875"
  },
  {
   "cell_type": "markdown",
   "source": [
    "### Samples from normal distribution "
   ],
   "metadata": {
    "collapsed": false
   },
   "id": "cf3de1de3c4055f5"
  },
  {
   "cell_type": "code",
   "execution_count": 25,
   "outputs": [
    {
     "data": {
      "text/plain": "array([[3.56032623, 3.00476358],\n       [3.18166179, 4.42104832]])"
     },
     "execution_count": 25,
     "metadata": {},
     "output_type": "execute_result"
    }
   ],
   "source": [
    "mu = 1\n",
    "sigma = 2\n",
    "sigma + rs.randn(2, 2) + mu"
   ],
   "metadata": {
    "collapsed": false,
    "ExecuteTime": {
     "end_time": "2024-03-10T18:40:09.697534200Z",
     "start_time": "2024-03-10T18:40:09.611828Z"
    }
   },
   "id": "697c4bff5a93b2a2"
  },
  {
   "cell_type": "markdown",
   "source": [
    "### Generating samples from normal distribution using Cholesky decomposition\n",
    "\n",
    "Affine transformation of a normal random variable:\n",
    "\n",
    "$$\n",
    "X \\sim N(\\mu, \\Sigma)\n",
    "$$\n",
    "$$\n",
    "Y = AX + b\n",
    "$$\n",
    "$$\n",
    "Y \\sim N(A\\mu + b, A\\Sigma A^T)\n",
    "$$\n",
    "\n",
    "To generate samples from a multivariate normal distribution, we can use the following transformation:\n",
    "\n",
    "1. Generate $X \\sim N(0, I)$\n",
    "2. Set $A = L$, where $L$ is the Cholesky decomposition of $\\Sigma = LL^T$ and b = $\\mu$\n",
    "3. Compute Y = LX + $\\mu$ where $Y \\sim N(\\mu, LIL^T)$ = $N(\\mu, \\Sigma)$"
   ],
   "metadata": {
    "collapsed": false
   },
   "id": "34a50dd69ba4bd7b"
  },
  {
   "cell_type": "code",
   "execution_count": 27,
   "outputs": [
    {
     "data": {
      "text/plain": "array([[0.74989373, 0.54527613, 0.73785879, 0.6087066 , 0.54399396,\n        0.63401107, 0.6437658 , 0.79034747, 0.6786374 , 0.59824243,\n        0.75071186, 0.69060341, 0.6441246 , 0.76240495, 0.62972174,\n        0.75084123, 0.77885065, 0.65541737, 0.67764829, 0.73825494,\n        0.7316964 , 0.55201835, 0.64669317, 0.59259623, 0.55139142,\n        0.67154034, 0.70997029, 0.62379383, 0.7195956 , 0.77451596,\n        0.66598697, 0.75213853, 0.73936249, 0.68145896, 0.74485747,\n        0.62875531, 0.74681263, 0.69769373, 0.79019423, 0.58335763,\n        0.63838649, 0.59529219, 0.57437958, 0.59912234, 0.68810658,\n        0.74551029, 0.63036733, 0.70182207, 0.78882885, 0.58339923,\n        0.58848954, 0.72930133, 0.6718751 , 0.76943038, 0.55922146,\n        0.71297024, 0.70755356, 0.69461204, 0.67328498, 0.58643421,\n        0.69513451, 0.62465357, 0.59775809, 0.54140626, 0.5991382 ,\n        0.76991325, 0.57126378, 0.76338053, 0.70663008, 0.58927639,\n        0.6750378 , 0.53784096, 0.54287794, 0.53091301, 0.64861325,\n        0.57984941, 0.76627665, 0.59435026, 0.74861786, 0.61870039,\n        0.79298105, 0.5936012 , 0.69594575, 0.65354734, 0.73636205,\n        0.59956097, 0.59548319, 0.66638491, 0.79205022, 0.5877464 ,\n        0.53911632, 0.74556859, 0.77981586, 0.52276168, 0.60499539,\n        0.59441181, 0.62671843, 0.65312962, 0.59716625, 0.67839712],\n       [0.4998924 , 0.60197501, 0.52077037, 0.65774272, 0.79541733,\n        0.52300643, 0.73919223, 0.64316459, 0.67801828, 0.79215493,\n        0.64141627, 0.73458012, 0.67602741, 0.65041272, 0.68093724,\n        0.69155109, 0.74233946, 0.55114016, 0.53208696, 0.60210488,\n        0.51286332, 0.75515808, 0.7298223 , 0.55428225, 0.69277897,\n        0.79754692, 0.79140877, 0.71726512, 0.66833488, 0.78616642,\n        0.56541948, 0.56391332, 0.50121867, 0.62464437, 0.59672178,\n        0.57320603, 0.62806619, 0.51319262, 0.74057185, 0.75542766,\n        0.66240739, 0.64243305, 0.62802168, 0.7062962 , 0.76324219,\n        0.54841076, 0.63916998, 0.65279135, 0.78181012, 0.69998278,\n        0.81114531, 0.71032658, 0.79723591, 0.63509272, 0.73178314,\n        0.56435227, 0.75161539, 0.51522033, 0.54004516, 0.72429938,\n        0.51542134, 0.74707708, 0.78281183, 0.70105578, 0.74956851,\n        0.59622131, 0.52939757, 0.69929977, 0.65500805, 0.74798342,\n        0.70350292, 0.82228437, 0.68461018, 0.76033666, 0.61204312,\n        0.64138053, 0.49448981, 0.79362146, 0.66310873, 0.52690379,\n        0.73021312, 0.69055985, 0.56511128, 0.7056144 , 0.53083584,\n        0.80644357, 0.70111561, 0.61115855, 0.74387205, 0.81130409,\n        0.82606008, 0.72937786, 0.75595892, 0.68888574, 0.73999216,\n        0.70393414, 0.73524223, 0.71228438, 0.65250187, 0.61360045],\n       [0.51462777, 0.68224021, 0.71887592, 0.56897002, 0.52208803,\n        0.73983494, 0.66648144, 0.56328848, 0.46965168, 0.6733438 ,\n        0.46243502, 0.58056864, 0.58607457, 0.46644896, 0.69529191,\n        0.46550618, 0.4392558 , 0.61733105, 0.70227681, 0.71536943,\n        0.51373276, 0.62962256, 0.7052629 , 0.70907453, 0.64598576,\n        0.65857443, 0.57851131, 0.53573944, 0.56772232, 0.50824468,\n        0.6625403 , 0.54702178, 0.7145    , 0.67430481, 0.70254983,\n        0.62203037, 0.53913477, 0.48212319, 0.66595079, 0.65581041,\n        0.66273483, 0.49071151, 0.66062477, 0.47295264, 0.54833198,\n        0.53628339, 0.67943484, 0.54202792, 0.61033861, 0.53095263,\n        0.48338848, 0.4599778 , 0.462549  , 0.6048563 , 0.73426938,\n        0.63955942, 0.68669356, 0.67946385, 0.47123883, 0.69555069,\n        0.7163775 , 0.60099885, 0.54960239, 0.60962036, 0.62844901,\n        0.56480756, 0.75054038, 0.48755666, 0.5930782 , 0.4661184 ,\n        0.49768585, 0.65753661, 0.65889968, 0.5821051 , 0.54106159,\n        0.51726892, 0.4911139 , 0.56449528, 0.58203759, 0.65875832,\n        0.49316421, 0.615606  , 0.5772377 , 0.48426961, 0.53327785,\n        0.67357015, 0.55391611, 0.55962161, 0.55105318, 0.52626491,\n        0.48231292, 0.52389473, 0.55396929, 0.60495008, 0.46491377,\n        0.71259116, 0.51160145, 0.56602038, 0.60686538, 0.55588314]])"
     },
     "execution_count": 27,
     "metadata": {},
     "output_type": "execute_result"
    }
   ],
   "source": [
    "num_samples = 100\n",
    "num_stock_returns = 3\n",
    "\n",
    "X = rs.rand(num_samples, num_stock_returns)  \n",
    "\n",
    "Sigma = np.cov(X, rowvar=False, ddof=1)\n",
    "mu = np.mean(X, axis=0)\n",
    "\n",
    "L = np.linalg.cholesky(Sigma)\n",
    "Y = L@X.T + mu.reshape(-1, 1)\n",
    "Y"
   ],
   "metadata": {
    "collapsed": false,
    "ExecuteTime": {
     "end_time": "2024-03-10T18:42:21.055255700Z",
     "start_time": "2024-03-10T18:42:21.023661100Z"
    }
   },
   "id": "18eaacd0d553bf34"
  },
  {
   "cell_type": "markdown",
   "source": [
    "### Fitting distribution to data\n",
    "\n",
    "**Steps:**\n",
    "1) Fit a distribution to the data i.e params = st.norm.fit(data)\n",
    "2) K-S test to compare data with the fitted distribution i.e st.kstest(data, 'norm', params). \n",
    "3) The K-S test returns a p-value. The p-value is the probability that the data is consistent with the distribution. The lower the p-value, the less consistent the data is with the distribution."
   ],
   "metadata": {
    "collapsed": false
   },
   "id": "532048493d90cd31"
  },
  {
   "cell_type": "code",
   "execution_count": 3,
   "outputs": [
    {
     "name": "stderr",
     "output_type": "stream",
     "text": [
      "C:\\Users\\josep\\PycharmProjects\\portfolio-convexopt\\venv\\lib\\site-packages\\yfinance\\utils.py:775: FutureWarning: The 'unit' keyword in TimedeltaIndex construction is deprecated and will be removed in a future version. Use pd.to_timedelta instead.\n",
      "  df.index += _pd.TimedeltaIndex(dst_error_hours, 'h')\n",
      "C:\\Users\\josep\\PycharmProjects\\portfolio-convexopt\\venv\\lib\\site-packages\\yfinance\\utils.py:775: FutureWarning: The 'unit' keyword in TimedeltaIndex construction is deprecated and will be removed in a future version. Use pd.to_timedelta instead.\n",
      "  df.index += _pd.TimedeltaIndex(dst_error_hours, 'h')\n",
      "C:\\Users\\josep\\PycharmProjects\\portfolio-convexopt\\venv\\lib\\site-packages\\yfinance\\utils.py:775: FutureWarning: The 'unit' keyword in TimedeltaIndex construction is deprecated and will be removed in a future version. Use pd.to_timedelta instead.\n",
      "  df.index += _pd.TimedeltaIndex(dst_error_hours, 'h')\n",
      "C:\\Users\\josep\\PycharmProjects\\portfolio-convexopt\\venv\\lib\\site-packages\\yfinance\\utils.py:775: FutureWarning: The 'unit' keyword in TimedeltaIndex construction is deprecated and will be removed in a future version. Use pd.to_timedelta instead.\n",
      "  df.index += _pd.TimedeltaIndex(dst_error_hours, 'h')\n",
      "C:\\Users\\josep\\PycharmProjects\\portfolio-convexopt\\venv\\lib\\site-packages\\yfinance\\utils.py:775: FutureWarning: The 'unit' keyword in TimedeltaIndex construction is deprecated and will be removed in a future version. Use pd.to_timedelta instead.\n",
      "  df.index += _pd.TimedeltaIndex(dst_error_hours, 'h')\n",
      "C:\\Users\\josep\\PycharmProjects\\portfolio-convexopt\\venv\\lib\\site-packages\\yfinance\\utils.py:775: FutureWarning: The 'unit' keyword in TimedeltaIndex construction is deprecated and will be removed in a future version. Use pd.to_timedelta instead.\n",
      "  df.index += _pd.TimedeltaIndex(dst_error_hours, 'h')\n",
      "C:\\Users\\josep\\PycharmProjects\\portfolio-convexopt\\venv\\lib\\site-packages\\yfinance\\utils.py:775: FutureWarning: The 'unit' keyword in TimedeltaIndex construction is deprecated and will be removed in a future version. Use pd.to_timedelta instead.\n",
      "  df.index += _pd.TimedeltaIndex(dst_error_hours, 'h')\n",
      "[********************* 44%%                      ]  4 of 9 completedC:\\Users\\josep\\PycharmProjects\\portfolio-convexopt\\venv\\lib\\site-packages\\yfinance\\utils.py:775: FutureWarning: The 'unit' keyword in TimedeltaIndex construction is deprecated and will be removed in a future version. Use pd.to_timedelta instead.\n",
      "  df.index += _pd.TimedeltaIndex(dst_error_hours, 'h')\n",
      "C:\\Users\\josep\\PycharmProjects\\portfolio-convexopt\\venv\\lib\\site-packages\\yfinance\\utils.py:775: FutureWarning: The 'unit' keyword in TimedeltaIndex construction is deprecated and will be removed in a future version. Use pd.to_timedelta instead.\n",
      "  df.index += _pd.TimedeltaIndex(dst_error_hours, 'h')\n",
      "[*********************100%%**********************]  9 of 9 completed\n"
     ]
    },
    {
     "data": {
      "text/plain": "                 AAPL        APA      CMCSA        CPB        JCI         MO  \\\nDate                                                                           \n2019-12-30  70.911552  23.763147  40.809372  43.151562  36.968712  35.978863   \n2019-12-31  71.429665  23.847015  40.619667  43.300510  37.023273  35.993282   \n2020-01-02  73.059418  23.632681  40.980980  42.485680  37.650799  35.517311   \n2020-01-03  72.349136  23.940205  40.655815  42.433105  36.977802  35.791359   \n2020-01-06  72.925629  23.893608  40.348698  42.503189  37.450718  35.935596   \n\n                  MSFT       NVDA         TGT  \nDate                                           \n2019-12-30  151.579407  57.851223  117.348251  \n2019-12-31  151.685181  58.593277  116.729149  \n2020-01-02  154.493820  59.741241  114.780769  \n2020-01-03  152.570099  58.785027  113.588081  \n2020-01-06  152.964462  59.031544  112.513748  ",
      "text/html": "<div>\n<style scoped>\n    .dataframe tbody tr th:only-of-type {\n        vertical-align: middle;\n    }\n\n    .dataframe tbody tr th {\n        vertical-align: top;\n    }\n\n    .dataframe thead th {\n        text-align: right;\n    }\n</style>\n<table border=\"1\" class=\"dataframe\">\n  <thead>\n    <tr style=\"text-align: right;\">\n      <th></th>\n      <th>AAPL</th>\n      <th>APA</th>\n      <th>CMCSA</th>\n      <th>CPB</th>\n      <th>JCI</th>\n      <th>MO</th>\n      <th>MSFT</th>\n      <th>NVDA</th>\n      <th>TGT</th>\n    </tr>\n    <tr>\n      <th>Date</th>\n      <th></th>\n      <th></th>\n      <th></th>\n      <th></th>\n      <th></th>\n      <th></th>\n      <th></th>\n      <th></th>\n      <th></th>\n    </tr>\n  </thead>\n  <tbody>\n    <tr>\n      <th>2019-12-30</th>\n      <td>70.911552</td>\n      <td>23.763147</td>\n      <td>40.809372</td>\n      <td>43.151562</td>\n      <td>36.968712</td>\n      <td>35.978863</td>\n      <td>151.579407</td>\n      <td>57.851223</td>\n      <td>117.348251</td>\n    </tr>\n    <tr>\n      <th>2019-12-31</th>\n      <td>71.429665</td>\n      <td>23.847015</td>\n      <td>40.619667</td>\n      <td>43.300510</td>\n      <td>37.023273</td>\n      <td>35.993282</td>\n      <td>151.685181</td>\n      <td>58.593277</td>\n      <td>116.729149</td>\n    </tr>\n    <tr>\n      <th>2020-01-02</th>\n      <td>73.059418</td>\n      <td>23.632681</td>\n      <td>40.980980</td>\n      <td>42.485680</td>\n      <td>37.650799</td>\n      <td>35.517311</td>\n      <td>154.493820</td>\n      <td>59.741241</td>\n      <td>114.780769</td>\n    </tr>\n    <tr>\n      <th>2020-01-03</th>\n      <td>72.349136</td>\n      <td>23.940205</td>\n      <td>40.655815</td>\n      <td>42.433105</td>\n      <td>36.977802</td>\n      <td>35.791359</td>\n      <td>152.570099</td>\n      <td>58.785027</td>\n      <td>113.588081</td>\n    </tr>\n    <tr>\n      <th>2020-01-06</th>\n      <td>72.925629</td>\n      <td>23.893608</td>\n      <td>40.348698</td>\n      <td>42.503189</td>\n      <td>37.450718</td>\n      <td>35.935596</td>\n      <td>152.964462</td>\n      <td>59.031544</td>\n      <td>112.513748</td>\n    </tr>\n  </tbody>\n</table>\n</div>"
     },
     "execution_count": 3,
     "metadata": {},
     "output_type": "execute_result"
    }
   ],
   "source": [
    "assets = ['JCI', 'TGT', 'CMCSA', 'CPB', 'MO', 'APA', 'AAPL', 'MSFT', 'NVDA']\n",
    "assets.sort()\n",
    "\n",
    "start = '2019-12-30'\n",
    "end = '2022-12-31'\n",
    "\n",
    "prices = yf.download(assets, start=start, end=end)\n",
    "# Here we select all rows and columns that has 'Adj Close' in first level of columns\n",
    "prices = prices.loc[:, ('Adj Close', slice(None))]\n",
    "# Here we replace the names of the columns\n",
    "prices.columns = assets\n",
    "\n",
    "prices.head()"
   ],
   "metadata": {
    "collapsed": false,
    "ExecuteTime": {
     "end_time": "2024-03-12T06:08:00.179561100Z",
     "start_time": "2024-03-12T06:07:59.412537700Z"
    }
   },
   "id": "13732bf40b29eb49"
  },
  {
   "cell_type": "code",
   "execution_count": 4,
   "outputs": [
    {
     "data": {
      "text/plain": "                AAPL       APA     CMCSA       CPB       JCI        MO  \\\nDate                                                                     \n2019-12-30  0.007280  0.003523 -0.004659  0.003446  0.001475  0.000401   \n2019-12-31  0.022560 -0.009029  0.008856 -0.018997  0.016807 -0.013312   \n2020-01-02 -0.009770  0.012929 -0.007966 -0.001238 -0.018036  0.007686   \n2020-01-03  0.007937 -0.001948 -0.007583  0.001650  0.012708  0.004022   \n2020-01-06 -0.004714  0.237394  0.010516  0.000623 -0.010497 -0.005231   \n\n                MSFT      NVDA       TGT  \nDate                                      \n2019-12-30  0.000698  0.012745 -0.005290  \n2019-12-31  0.018347  0.019403 -0.016832  \n2020-01-02 -0.012530 -0.016135 -0.010445  \n2020-01-03  0.002581  0.004185 -0.009503  \n2020-01-06 -0.009159  0.012034  0.001779  ",
      "text/html": "<div>\n<style scoped>\n    .dataframe tbody tr th:only-of-type {\n        vertical-align: middle;\n    }\n\n    .dataframe tbody tr th {\n        vertical-align: top;\n    }\n\n    .dataframe thead th {\n        text-align: right;\n    }\n</style>\n<table border=\"1\" class=\"dataframe\">\n  <thead>\n    <tr style=\"text-align: right;\">\n      <th></th>\n      <th>AAPL</th>\n      <th>APA</th>\n      <th>CMCSA</th>\n      <th>CPB</th>\n      <th>JCI</th>\n      <th>MO</th>\n      <th>MSFT</th>\n      <th>NVDA</th>\n      <th>TGT</th>\n    </tr>\n    <tr>\n      <th>Date</th>\n      <th></th>\n      <th></th>\n      <th></th>\n      <th></th>\n      <th></th>\n      <th></th>\n      <th></th>\n      <th></th>\n      <th></th>\n    </tr>\n  </thead>\n  <tbody>\n    <tr>\n      <th>2019-12-30</th>\n      <td>0.007280</td>\n      <td>0.003523</td>\n      <td>-0.004659</td>\n      <td>0.003446</td>\n      <td>0.001475</td>\n      <td>0.000401</td>\n      <td>0.000698</td>\n      <td>0.012745</td>\n      <td>-0.005290</td>\n    </tr>\n    <tr>\n      <th>2019-12-31</th>\n      <td>0.022560</td>\n      <td>-0.009029</td>\n      <td>0.008856</td>\n      <td>-0.018997</td>\n      <td>0.016807</td>\n      <td>-0.013312</td>\n      <td>0.018347</td>\n      <td>0.019403</td>\n      <td>-0.016832</td>\n    </tr>\n    <tr>\n      <th>2020-01-02</th>\n      <td>-0.009770</td>\n      <td>0.012929</td>\n      <td>-0.007966</td>\n      <td>-0.001238</td>\n      <td>-0.018036</td>\n      <td>0.007686</td>\n      <td>-0.012530</td>\n      <td>-0.016135</td>\n      <td>-0.010445</td>\n    </tr>\n    <tr>\n      <th>2020-01-03</th>\n      <td>0.007937</td>\n      <td>-0.001948</td>\n      <td>-0.007583</td>\n      <td>0.001650</td>\n      <td>0.012708</td>\n      <td>0.004022</td>\n      <td>0.002581</td>\n      <td>0.004185</td>\n      <td>-0.009503</td>\n    </tr>\n    <tr>\n      <th>2020-01-06</th>\n      <td>-0.004714</td>\n      <td>0.237394</td>\n      <td>0.010516</td>\n      <td>0.000623</td>\n      <td>-0.010497</td>\n      <td>-0.005231</td>\n      <td>-0.009159</td>\n      <td>0.012034</td>\n      <td>0.001779</td>\n    </tr>\n  </tbody>\n</table>\n</div>"
     },
     "execution_count": 4,
     "metadata": {},
     "output_type": "execute_result"
    }
   ],
   "source": [
    "R = np.log(prices.shift(-1) / prices)\n",
    "R = R.dropna()\n",
    "R.head()"
   ],
   "metadata": {
    "collapsed": false,
    "ExecuteTime": {
     "end_time": "2024-03-12T06:08:22.678925900Z",
     "start_time": "2024-03-12T06:08:22.647234Z"
    }
   },
   "id": "f3981f09dedb55f8"
  },
  {
   "cell_type": "code",
   "execution_count": 8,
   "outputs": [
    {
     "name": "stdout",
     "output_type": "stream",
     "text": [
      "('t', (4.1644310634749555, 0.001094532163255329, 0.016909377199080713), 0.940393778430694)\n",
      "('t', (3.085343290419967, 0.0013735996865943396, 0.03175729959582375), 0.9141535581281418)\n",
      "('t', (3.1505307021504283, 0.0006490346677838425, 0.012793186461814245), 0.9086001431552064)\n",
      "('t', (3.2531143136473926, 0.0008210959055102358, 0.010650996341175643), 0.6883835648065829)\n",
      "('t', (3.8395184936026263, 0.0014275331225233295, 0.014976443101616214), 0.9527348545768006)\n",
      "('t', (2.723905283784589, 0.001406931322080953, 0.010487779870520617), 0.7501216955172719)\n",
      "('t', (3.6082128636732005, 0.0009863039703548171, 0.014914331953821131), 0.8845275018841077)\n",
      "('t', (5.936703019567064, 0.0016198530980268285, 0.028760138775080463), 0.790758518501461)\n",
      "('t', (2.7472339919796402, 0.0007879531232913586, 0.013006322808994499), 0.9718481656173273)\n"
     ]
    }
   ],
   "source": [
    "def find_best_distribution(data):\n",
    "    \n",
    "    dist_names = [ 'norm', 'johnsonsu', 'laplace', 't' ]\n",
    "    \n",
    "    dist_params = {}\n",
    "    results = []\n",
    "    for dist_name in dist_names:\n",
    "        dist = getattr(st, dist_name)\n",
    "        params = dist.fit(data)\n",
    "        dist_params[dist_name] = params\n",
    "        res = st.kstest(data, dist_name, params)\n",
    "        results.append((dist_name, params, res.pvalue))\n",
    "    \n",
    "    return max(results, key = lambda x: x[1]) \n",
    "\n",
    "for asset in assets:\n",
    "    print(find_best_distribution(R[asset]))"
   ],
   "metadata": {
    "collapsed": false,
    "ExecuteTime": {
     "end_time": "2024-03-12T06:10:54.310483200Z",
     "start_time": "2024-03-12T06:10:52.604512900Z"
    }
   },
   "id": "aa818e3015819d2a"
  }
 ],
 "metadata": {
  "kernelspec": {
   "display_name": "Python 3",
   "language": "python",
   "name": "python3"
  },
  "language_info": {
   "codemirror_mode": {
    "name": "ipython",
    "version": 2
   },
   "file_extension": ".py",
   "mimetype": "text/x-python",
   "name": "python",
   "nbconvert_exporter": "python",
   "pygments_lexer": "ipython2",
   "version": "2.7.6"
  }
 },
 "nbformat": 4,
 "nbformat_minor": 5
}
