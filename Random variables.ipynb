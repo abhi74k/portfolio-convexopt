{
 "cells": [
  {
   "cell_type": "code",
   "execution_count": 1,
   "id": "initial_id",
   "metadata": {
    "collapsed": true,
    "ExecuteTime": {
     "end_time": "2024-03-10T18:00:30.976720400Z",
     "start_time": "2024-03-10T18:00:29.882330400Z"
    }
   },
   "outputs": [],
   "source": [
    "import numpy as np"
   ]
  },
  {
   "cell_type": "markdown",
   "source": [
    "### Random state for reproducibility"
   ],
   "metadata": {
    "collapsed": false
   },
   "id": "e0f3ff540fcba059"
  },
  {
   "cell_type": "code",
   "execution_count": 2,
   "outputs": [],
   "source": [
    "rs = np.random.RandomState(seed=100)"
   ],
   "metadata": {
    "collapsed": false,
    "ExecuteTime": {
     "end_time": "2024-03-10T18:01:11.519251800Z",
     "start_time": "2024-03-10T18:01:11.423853800Z"
    }
   },
   "id": "525b8d4a3b512c06"
  },
  {
   "cell_type": "markdown",
   "source": [
    "### Mean, standard deviation and covariance"
   ],
   "metadata": {
    "collapsed": false
   },
   "id": "cd5f8784287740a7"
  },
  {
   "cell_type": "code",
   "execution_count": 22,
   "outputs": [
    {
     "name": "stdout",
     "output_type": "stream",
     "text": [
      "Mean:\n",
      " [0.50020728 0.50375054 0.51967753]\n",
      "Standard deviation:\n",
      " [0.28113481 0.29302848 0.2926356 ]\n",
      "Covariance:\n",
      " [[ 0.07983513 -0.00219274 -0.01044092]\n",
      " [-0.00219274  0.08673302  0.00588785]\n",
      " [-0.01044092  0.00588785  0.0865006 ]]\n"
     ]
    }
   ],
   "source": [
    "num_samples = 100\n",
    "num_stock_returns = 3\n",
    "X = rs.rand(num_samples, num_stock_returns)  \n",
    "print(f\"Mean:\\n\", np.mean(X, axis=0))\n",
    "print(f\"Standard deviation:\\n\", np.std(X, axis=0))\n",
    "\n",
    "\"\"\"\n",
    "np.cov() assumes that each row is a variable and each column is an observation. Pass rowvar=False to indicate that each column is a variable and each row is an observation.\n",
    "\"\"\"\n",
    "print(f\"Covariance:\\n\", np.cov(X, rowvar=False, ddof=1))"
   ],
   "metadata": {
    "collapsed": false,
    "ExecuteTime": {
     "end_time": "2024-03-10T18:39:26.736464800Z",
     "start_time": "2024-03-10T18:39:26.673181400Z"
    }
   },
   "id": "7b7177b053b5989f"
  },
  {
   "cell_type": "markdown",
   "source": [
    "### Samples from uniform distribution"
   ],
   "metadata": {
    "collapsed": false
   },
   "id": "954dddecc224e508"
  },
  {
   "cell_type": "code",
   "execution_count": 24,
   "outputs": [
    {
     "data": {
      "text/plain": "array([[0.18899771, 0.51658582],\n       [0.80484256, 0.22853715]])"
     },
     "execution_count": 24,
     "metadata": {},
     "output_type": "execute_result"
    }
   ],
   "source": [
    "rs.rand(2, 2)"
   ],
   "metadata": {
    "collapsed": false,
    "ExecuteTime": {
     "end_time": "2024-03-10T18:39:56.681852300Z",
     "start_time": "2024-03-10T18:39:56.620759200Z"
    }
   },
   "id": "e37071780825d4a3"
  },
  {
   "cell_type": "markdown",
   "source": [
    "### Samples from standard normal distribution"
   ],
   "metadata": {
    "collapsed": false
   },
   "id": "3783192c269c94be"
  },
  {
   "cell_type": "code",
   "execution_count": 23,
   "outputs": [
    {
     "data": {
      "text/plain": "array([[ 1.02973269e+00,  9.86687347e-03,  9.53420338e-01],\n       [-5.55246923e-01,  5.22770324e-01, -1.04070697e+00],\n       [ 4.82990601e-04,  1.00350734e+00, -1.24880773e+00]])"
     },
     "execution_count": 23,
     "metadata": {},
     "output_type": "execute_result"
    }
   ],
   "source": [
    "rs.randn(3, 3)"
   ],
   "metadata": {
    "collapsed": false,
    "ExecuteTime": {
     "end_time": "2024-03-10T18:39:48.720956400Z",
     "start_time": "2024-03-10T18:39:48.626705Z"
    }
   },
   "id": "d5ea4fca85421875"
  },
  {
   "cell_type": "markdown",
   "source": [
    "### Samples from normal distribution "
   ],
   "metadata": {
    "collapsed": false
   },
   "id": "cf3de1de3c4055f5"
  },
  {
   "cell_type": "code",
   "execution_count": 25,
   "outputs": [
    {
     "data": {
      "text/plain": "array([[3.56032623, 3.00476358],\n       [3.18166179, 4.42104832]])"
     },
     "execution_count": 25,
     "metadata": {},
     "output_type": "execute_result"
    }
   ],
   "source": [
    "mu = 1\n",
    "sigma = 2\n",
    "sigma + rs.randn(2, 2) + mu"
   ],
   "metadata": {
    "collapsed": false,
    "ExecuteTime": {
     "end_time": "2024-03-10T18:40:09.697534200Z",
     "start_time": "2024-03-10T18:40:09.611828Z"
    }
   },
   "id": "697c4bff5a93b2a2"
  },
  {
   "cell_type": "markdown",
   "source": [
    "### Generating samples from normal distribution using Cholesky decomposition\n",
    "\n",
    "Affine transformation of a normal random variable:\n",
    "\n",
    "$$\n",
    "X \\sim N(\\mu, \\Sigma)\n",
    "$$\n",
    "$$\n",
    "Y = AX + b\n",
    "$$\n",
    "$$\n",
    "Y \\sim N(A\\mu + b, A\\Sigma A^T)\n",
    "$$\n",
    "\n",
    "To generate samples from a multivariate normal distribution, we can use the following transformation:\n",
    "\n",
    "1. Generate $X \\sim N(0, I)$\n",
    "2. Set $A = L$, where $L$ is the Cholesky decomposition of $\\Sigma = LL^T$ and b = $\\mu$\n",
    "3. Compute Y = LX + $\\mu$ where $Y \\sim N(\\mu, LIL^T)$ = $N(\\mu, \\Sigma)$"
   ],
   "metadata": {
    "collapsed": false
   },
   "id": "34a50dd69ba4bd7b"
  },
  {
   "cell_type": "code",
   "execution_count": 27,
   "outputs": [
    {
     "data": {
      "text/plain": "array([[0.74989373, 0.54527613, 0.73785879, 0.6087066 , 0.54399396,\n        0.63401107, 0.6437658 , 0.79034747, 0.6786374 , 0.59824243,\n        0.75071186, 0.69060341, 0.6441246 , 0.76240495, 0.62972174,\n        0.75084123, 0.77885065, 0.65541737, 0.67764829, 0.73825494,\n        0.7316964 , 0.55201835, 0.64669317, 0.59259623, 0.55139142,\n        0.67154034, 0.70997029, 0.62379383, 0.7195956 , 0.77451596,\n        0.66598697, 0.75213853, 0.73936249, 0.68145896, 0.74485747,\n        0.62875531, 0.74681263, 0.69769373, 0.79019423, 0.58335763,\n        0.63838649, 0.59529219, 0.57437958, 0.59912234, 0.68810658,\n        0.74551029, 0.63036733, 0.70182207, 0.78882885, 0.58339923,\n        0.58848954, 0.72930133, 0.6718751 , 0.76943038, 0.55922146,\n        0.71297024, 0.70755356, 0.69461204, 0.67328498, 0.58643421,\n        0.69513451, 0.62465357, 0.59775809, 0.54140626, 0.5991382 ,\n        0.76991325, 0.57126378, 0.76338053, 0.70663008, 0.58927639,\n        0.6750378 , 0.53784096, 0.54287794, 0.53091301, 0.64861325,\n        0.57984941, 0.76627665, 0.59435026, 0.74861786, 0.61870039,\n        0.79298105, 0.5936012 , 0.69594575, 0.65354734, 0.73636205,\n        0.59956097, 0.59548319, 0.66638491, 0.79205022, 0.5877464 ,\n        0.53911632, 0.74556859, 0.77981586, 0.52276168, 0.60499539,\n        0.59441181, 0.62671843, 0.65312962, 0.59716625, 0.67839712],\n       [0.4998924 , 0.60197501, 0.52077037, 0.65774272, 0.79541733,\n        0.52300643, 0.73919223, 0.64316459, 0.67801828, 0.79215493,\n        0.64141627, 0.73458012, 0.67602741, 0.65041272, 0.68093724,\n        0.69155109, 0.74233946, 0.55114016, 0.53208696, 0.60210488,\n        0.51286332, 0.75515808, 0.7298223 , 0.55428225, 0.69277897,\n        0.79754692, 0.79140877, 0.71726512, 0.66833488, 0.78616642,\n        0.56541948, 0.56391332, 0.50121867, 0.62464437, 0.59672178,\n        0.57320603, 0.62806619, 0.51319262, 0.74057185, 0.75542766,\n        0.66240739, 0.64243305, 0.62802168, 0.7062962 , 0.76324219,\n        0.54841076, 0.63916998, 0.65279135, 0.78181012, 0.69998278,\n        0.81114531, 0.71032658, 0.79723591, 0.63509272, 0.73178314,\n        0.56435227, 0.75161539, 0.51522033, 0.54004516, 0.72429938,\n        0.51542134, 0.74707708, 0.78281183, 0.70105578, 0.74956851,\n        0.59622131, 0.52939757, 0.69929977, 0.65500805, 0.74798342,\n        0.70350292, 0.82228437, 0.68461018, 0.76033666, 0.61204312,\n        0.64138053, 0.49448981, 0.79362146, 0.66310873, 0.52690379,\n        0.73021312, 0.69055985, 0.56511128, 0.7056144 , 0.53083584,\n        0.80644357, 0.70111561, 0.61115855, 0.74387205, 0.81130409,\n        0.82606008, 0.72937786, 0.75595892, 0.68888574, 0.73999216,\n        0.70393414, 0.73524223, 0.71228438, 0.65250187, 0.61360045],\n       [0.51462777, 0.68224021, 0.71887592, 0.56897002, 0.52208803,\n        0.73983494, 0.66648144, 0.56328848, 0.46965168, 0.6733438 ,\n        0.46243502, 0.58056864, 0.58607457, 0.46644896, 0.69529191,\n        0.46550618, 0.4392558 , 0.61733105, 0.70227681, 0.71536943,\n        0.51373276, 0.62962256, 0.7052629 , 0.70907453, 0.64598576,\n        0.65857443, 0.57851131, 0.53573944, 0.56772232, 0.50824468,\n        0.6625403 , 0.54702178, 0.7145    , 0.67430481, 0.70254983,\n        0.62203037, 0.53913477, 0.48212319, 0.66595079, 0.65581041,\n        0.66273483, 0.49071151, 0.66062477, 0.47295264, 0.54833198,\n        0.53628339, 0.67943484, 0.54202792, 0.61033861, 0.53095263,\n        0.48338848, 0.4599778 , 0.462549  , 0.6048563 , 0.73426938,\n        0.63955942, 0.68669356, 0.67946385, 0.47123883, 0.69555069,\n        0.7163775 , 0.60099885, 0.54960239, 0.60962036, 0.62844901,\n        0.56480756, 0.75054038, 0.48755666, 0.5930782 , 0.4661184 ,\n        0.49768585, 0.65753661, 0.65889968, 0.5821051 , 0.54106159,\n        0.51726892, 0.4911139 , 0.56449528, 0.58203759, 0.65875832,\n        0.49316421, 0.615606  , 0.5772377 , 0.48426961, 0.53327785,\n        0.67357015, 0.55391611, 0.55962161, 0.55105318, 0.52626491,\n        0.48231292, 0.52389473, 0.55396929, 0.60495008, 0.46491377,\n        0.71259116, 0.51160145, 0.56602038, 0.60686538, 0.55588314]])"
     },
     "execution_count": 27,
     "metadata": {},
     "output_type": "execute_result"
    }
   ],
   "source": [
    "num_samples = 100\n",
    "num_stock_returns = 3\n",
    "\n",
    "X = rs.rand(num_samples, num_stock_returns)  \n",
    "\n",
    "Sigma = np.cov(X, rowvar=False, ddof=1)\n",
    "mu = np.mean(X, axis=0)\n",
    "\n",
    "L = np.linalg.cholesky(Sigma)\n",
    "Y = L@X.T + mu.reshape(-1, 1)\n",
    "Y"
   ],
   "metadata": {
    "collapsed": false,
    "ExecuteTime": {
     "end_time": "2024-03-10T18:42:21.055255700Z",
     "start_time": "2024-03-10T18:42:21.023661100Z"
    }
   },
   "id": "18eaacd0d553bf34"
  }
 ],
 "metadata": {
  "kernelspec": {
   "display_name": "Python 3",
   "language": "python",
   "name": "python3"
  },
  "language_info": {
   "codemirror_mode": {
    "name": "ipython",
    "version": 2
   },
   "file_extension": ".py",
   "mimetype": "text/x-python",
   "name": "python",
   "nbconvert_exporter": "python",
   "pygments_lexer": "ipython2",
   "version": "2.7.6"
  }
 },
 "nbformat": 4,
 "nbformat_minor": 5
}
