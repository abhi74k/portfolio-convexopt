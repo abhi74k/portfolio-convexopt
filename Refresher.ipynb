{
 "cells": [
  {
   "cell_type": "code",
   "execution_count": 1,
   "outputs": [],
   "source": [
    "import numpy as np\n",
    "import pandas as pd\n",
    "import matplotlib.pyplot as plt\n",
    "import yfinance as yf\n",
    "import statsmodels.api as sm\n",
    "import scipy.stats as st\n",
    "\n",
    "from scipy.linalg import expm, logm, sqrtm\n"
   ],
   "metadata": {
    "collapsed": false,
    "ExecuteTime": {
     "end_time": "2024-03-09T07:10:45.601140500Z",
     "start_time": "2024-03-09T07:10:30.581594600Z"
    }
   },
   "id": "9c2c78cf11d9b6ce"
  },
  {
   "cell_type": "code",
   "execution_count": 6,
   "outputs": [
    {
     "name": "stderr",
     "output_type": "stream",
     "text": [
      "C:\\Users\\josep\\PycharmProjects\\portfolio-convexopt\\venv\\lib\\site-packages\\yfinance\\utils.py:775: FutureWarning: The 'unit' keyword in TimedeltaIndex construction is deprecated and will be removed in a future version. Use pd.to_timedelta instead.\n",
      "  df.index += _pd.TimedeltaIndex(dst_error_hours, 'h')\n",
      "C:\\Users\\josep\\PycharmProjects\\portfolio-convexopt\\venv\\lib\\site-packages\\yfinance\\utils.py:775: FutureWarning: The 'unit' keyword in TimedeltaIndex construction is deprecated and will be removed in a future version. Use pd.to_timedelta instead.\n",
      "  df.index += _pd.TimedeltaIndex(dst_error_hours, 'h')\n",
      "C:\\Users\\josep\\PycharmProjects\\portfolio-convexopt\\venv\\lib\\site-packages\\yfinance\\utils.py:775: FutureWarning: The 'unit' keyword in TimedeltaIndex construction is deprecated and will be removed in a future version. Use pd.to_timedelta instead.\n",
      "  df.index += _pd.TimedeltaIndex(dst_error_hours, 'h')\n",
      "[****************      33%%                      ]  3 of 9 completedC:\\Users\\josep\\PycharmProjects\\portfolio-convexopt\\venv\\lib\\site-packages\\yfinance\\utils.py:775: FutureWarning: The 'unit' keyword in TimedeltaIndex construction is deprecated and will be removed in a future version. Use pd.to_timedelta instead.\n",
      "  df.index += _pd.TimedeltaIndex(dst_error_hours, 'h')\n",
      "[********************* 44%%                      ]  4 of 9 completedC:\\Users\\josep\\PycharmProjects\\portfolio-convexopt\\venv\\lib\\site-packages\\yfinance\\utils.py:775: FutureWarning: The 'unit' keyword in TimedeltaIndex construction is deprecated and will be removed in a future version. Use pd.to_timedelta instead.\n",
      "  df.index += _pd.TimedeltaIndex(dst_error_hours, 'h')\n",
      "[**********************56%%*                     ]  5 of 9 completedC:\\Users\\josep\\PycharmProjects\\portfolio-convexopt\\venv\\lib\\site-packages\\yfinance\\utils.py:775: FutureWarning: The 'unit' keyword in TimedeltaIndex construction is deprecated and will be removed in a future version. Use pd.to_timedelta instead.\n",
      "  df.index += _pd.TimedeltaIndex(dst_error_hours, 'h')\n",
      "C:\\Users\\josep\\PycharmProjects\\portfolio-convexopt\\venv\\lib\\site-packages\\yfinance\\utils.py:775: FutureWarning: The 'unit' keyword in TimedeltaIndex construction is deprecated and will be removed in a future version. Use pd.to_timedelta instead.\n",
      "  df.index += _pd.TimedeltaIndex(dst_error_hours, 'h')\n",
      "C:\\Users\\josep\\PycharmProjects\\portfolio-convexopt\\venv\\lib\\site-packages\\yfinance\\utils.py:775: FutureWarning: The 'unit' keyword in TimedeltaIndex construction is deprecated and will be removed in a future version. Use pd.to_timedelta instead.\n",
      "  df.index += _pd.TimedeltaIndex(dst_error_hours, 'h')\n",
      "[**********************78%%***********           ]  7 of 9 completedC:\\Users\\josep\\PycharmProjects\\portfolio-convexopt\\venv\\lib\\site-packages\\yfinance\\utils.py:775: FutureWarning: The 'unit' keyword in TimedeltaIndex construction is deprecated and will be removed in a future version. Use pd.to_timedelta instead.\n",
      "  df.index += _pd.TimedeltaIndex(dst_error_hours, 'h')\n",
      "[*********************100%%**********************]  9 of 9 completed\n"
     ]
    }
   ],
   "source": [
    "\"\"\"\n",
    "Pandas and Yfinance\n",
    "\"\"\"\n",
    "\n",
    "assets = ['JCI', 'TGT', 'CMCSA', 'CPB',\n",
    "          'MO', 'APA', 'AAPL', 'MSFT', 'NVDA']\n",
    "assets.sort()\n",
    "\n",
    "start = '2019-12-30'\n",
    "end = '2022-12-31'\n",
    "\n",
    "prices = yf.download(assets, start=start, end=end)\n",
    "# Here we select all rows and columns that has 'Adj Close' in first level of columns\n",
    "prices = prices.loc[:, ('Adj Close', slice(None))]\n",
    "# Here we replace the names of the columns\n",
    "prices.columns = assets"
   ],
   "metadata": {
    "collapsed": false,
    "ExecuteTime": {
     "end_time": "2024-03-09T15:58:35.241497600Z",
     "start_time": "2024-03-09T15:58:28.954605700Z"
    }
   },
   "id": "f598fc72b8daa4e7"
  },
  {
   "cell_type": "code",
   "execution_count": 3,
   "outputs": [
    {
     "data": {
      "text/plain": "                  AAPL        APA      CMCSA        CPB        JCI         MO  \\\nDate                                                                            \n2019-12-30   70.911530  23.763147  40.809372  43.151562  36.968708  35.978863   \n2019-12-31   71.429672  23.847017  40.619686  43.300514  37.023281  35.993279   \n2020-01-02   73.059425  23.632687  40.980980  42.485672  37.650787  35.517323   \n2020-01-03   72.349136  23.940207  40.655807  42.433098  36.977802  35.791359   \n2020-01-06   72.925629  23.893610  40.348701  42.503189  37.450706  35.935600   \n...                ...        ...        ...        ...        ...        ...   \n2022-12-23  130.959961  45.735184  33.911404  55.090580  62.497887  42.374432   \n2022-12-27  129.142426  46.112671  33.776295  55.350258  62.692894  42.594364   \n2022-12-28  125.179672  43.731541  33.409584  54.859756  61.639881  42.017029   \n2022-12-29  128.725296  44.438141  33.824551  54.542366  62.848892  42.035358   \n2022-12-30  129.043121  45.183453  33.747349  54.580833  62.400391  41.888733   \n\n                  MSFT        NVDA         TGT  \nDate                                            \n2019-12-30  151.579361   57.853928  117.348244  \n2019-12-31  151.685226   58.596031  116.729149  \n2020-01-02  154.493805   59.744049  114.780769  \n2020-01-03  152.570114   58.787781  113.588089  \n2020-01-06  152.964493   59.034309  112.513756  \n...                ...         ...         ...  \n2022-12-23  236.195023  151.992554  137.644409  \n2022-12-27  234.443817  141.147369  139.952103  \n2022-12-28  232.039612  140.297745  140.192505  \n2022-12-29  238.450790  145.965240  142.663635  \n2022-12-30  237.273453  146.075180  143.307861  \n\n[758 rows x 9 columns]",
      "text/html": "<div>\n<style scoped>\n    .dataframe tbody tr th:only-of-type {\n        vertical-align: middle;\n    }\n\n    .dataframe tbody tr th {\n        vertical-align: top;\n    }\n\n    .dataframe thead th {\n        text-align: right;\n    }\n</style>\n<table border=\"1\" class=\"dataframe\">\n  <thead>\n    <tr style=\"text-align: right;\">\n      <th></th>\n      <th>AAPL</th>\n      <th>APA</th>\n      <th>CMCSA</th>\n      <th>CPB</th>\n      <th>JCI</th>\n      <th>MO</th>\n      <th>MSFT</th>\n      <th>NVDA</th>\n      <th>TGT</th>\n    </tr>\n    <tr>\n      <th>Date</th>\n      <th></th>\n      <th></th>\n      <th></th>\n      <th></th>\n      <th></th>\n      <th></th>\n      <th></th>\n      <th></th>\n      <th></th>\n    </tr>\n  </thead>\n  <tbody>\n    <tr>\n      <th>2019-12-30</th>\n      <td>70.911530</td>\n      <td>23.763147</td>\n      <td>40.809372</td>\n      <td>43.151562</td>\n      <td>36.968708</td>\n      <td>35.978863</td>\n      <td>151.579361</td>\n      <td>57.853928</td>\n      <td>117.348244</td>\n    </tr>\n    <tr>\n      <th>2019-12-31</th>\n      <td>71.429672</td>\n      <td>23.847017</td>\n      <td>40.619686</td>\n      <td>43.300514</td>\n      <td>37.023281</td>\n      <td>35.993279</td>\n      <td>151.685226</td>\n      <td>58.596031</td>\n      <td>116.729149</td>\n    </tr>\n    <tr>\n      <th>2020-01-02</th>\n      <td>73.059425</td>\n      <td>23.632687</td>\n      <td>40.980980</td>\n      <td>42.485672</td>\n      <td>37.650787</td>\n      <td>35.517323</td>\n      <td>154.493805</td>\n      <td>59.744049</td>\n      <td>114.780769</td>\n    </tr>\n    <tr>\n      <th>2020-01-03</th>\n      <td>72.349136</td>\n      <td>23.940207</td>\n      <td>40.655807</td>\n      <td>42.433098</td>\n      <td>36.977802</td>\n      <td>35.791359</td>\n      <td>152.570114</td>\n      <td>58.787781</td>\n      <td>113.588089</td>\n    </tr>\n    <tr>\n      <th>2020-01-06</th>\n      <td>72.925629</td>\n      <td>23.893610</td>\n      <td>40.348701</td>\n      <td>42.503189</td>\n      <td>37.450706</td>\n      <td>35.935600</td>\n      <td>152.964493</td>\n      <td>59.034309</td>\n      <td>112.513756</td>\n    </tr>\n    <tr>\n      <th>...</th>\n      <td>...</td>\n      <td>...</td>\n      <td>...</td>\n      <td>...</td>\n      <td>...</td>\n      <td>...</td>\n      <td>...</td>\n      <td>...</td>\n      <td>...</td>\n    </tr>\n    <tr>\n      <th>2022-12-23</th>\n      <td>130.959961</td>\n      <td>45.735184</td>\n      <td>33.911404</td>\n      <td>55.090580</td>\n      <td>62.497887</td>\n      <td>42.374432</td>\n      <td>236.195023</td>\n      <td>151.992554</td>\n      <td>137.644409</td>\n    </tr>\n    <tr>\n      <th>2022-12-27</th>\n      <td>129.142426</td>\n      <td>46.112671</td>\n      <td>33.776295</td>\n      <td>55.350258</td>\n      <td>62.692894</td>\n      <td>42.594364</td>\n      <td>234.443817</td>\n      <td>141.147369</td>\n      <td>139.952103</td>\n    </tr>\n    <tr>\n      <th>2022-12-28</th>\n      <td>125.179672</td>\n      <td>43.731541</td>\n      <td>33.409584</td>\n      <td>54.859756</td>\n      <td>61.639881</td>\n      <td>42.017029</td>\n      <td>232.039612</td>\n      <td>140.297745</td>\n      <td>140.192505</td>\n    </tr>\n    <tr>\n      <th>2022-12-29</th>\n      <td>128.725296</td>\n      <td>44.438141</td>\n      <td>33.824551</td>\n      <td>54.542366</td>\n      <td>62.848892</td>\n      <td>42.035358</td>\n      <td>238.450790</td>\n      <td>145.965240</td>\n      <td>142.663635</td>\n    </tr>\n    <tr>\n      <th>2022-12-30</th>\n      <td>129.043121</td>\n      <td>45.183453</td>\n      <td>33.747349</td>\n      <td>54.580833</td>\n      <td>62.400391</td>\n      <td>41.888733</td>\n      <td>237.273453</td>\n      <td>146.075180</td>\n      <td>143.307861</td>\n    </tr>\n  </tbody>\n</table>\n<p>758 rows × 9 columns</p>\n</div>"
     },
     "execution_count": 3,
     "metadata": {},
     "output_type": "execute_result"
    }
   ],
   "source": [
    "prices"
   ],
   "metadata": {
    "collapsed": false,
    "ExecuteTime": {
     "end_time": "2024-02-25T11:06:57.989195700Z",
     "start_time": "2024-02-25T11:06:57.894695300Z"
    }
   },
   "id": "14ff9e270729dcc5"
  },
  {
   "cell_type": "code",
   "execution_count": 28,
   "outputs": [
    {
     "data": {
      "text/plain": "                AAPL       APA     CMCSA       CPB       JCI        MO  \\\nDate                                                                     \n2019-12-30  0.007280  0.003523 -0.004659  0.003446  0.001475  0.000401   \n2019-12-31  0.022560 -0.009028  0.008855 -0.018998  0.016807 -0.013312   \n2020-01-02 -0.009770  0.012929 -0.007966 -0.001238 -0.018036  0.007686   \n2020-01-03  0.007937 -0.001948 -0.007583  0.001651  0.012708  0.004022   \n2020-01-06 -0.004714  0.237394  0.010516  0.000623 -0.010497 -0.005231   \n...              ...       ...       ...       ...       ...       ...   \n2022-12-22 -0.002802  0.055703  0.009148  0.008063 -0.000468  0.009998   \n2022-12-23 -0.013976  0.008220 -0.003992  0.004703  0.003115  0.005177   \n2022-12-27 -0.031166 -0.053018 -0.010917 -0.008901 -0.016939 -0.013647   \n2022-12-28  0.027931  0.016028  0.012344 -0.005802  0.019424  0.000436   \n2022-12-29  0.002466  0.016633 -0.002285  0.000705 -0.007162 -0.003494   \n\n                MSFT      NVDA       TGT  \nDate                                      \n2019-12-30  0.000698  0.012745 -0.005290  \n2019-12-31  0.018347  0.019403 -0.016832  \n2020-01-02 -0.012530 -0.016135 -0.010445  \n2020-01-03  0.002581  0.004185 -0.009503  \n2020-01-06 -0.009160  0.012034  0.001779  \n...              ...       ...       ...  \n2022-12-22  0.002264 -0.008709  0.012654  \n2022-12-23 -0.007442 -0.074027  0.016627  \n2022-12-27 -0.010308 -0.006038  0.001716  \n2022-12-28  0.027255  0.039602  0.017473  \n2022-12-29 -0.004950  0.000753  0.004505  \n\n[757 rows x 9 columns]",
      "text/html": "<div>\n<style scoped>\n    .dataframe tbody tr th:only-of-type {\n        vertical-align: middle;\n    }\n\n    .dataframe tbody tr th {\n        vertical-align: top;\n    }\n\n    .dataframe thead th {\n        text-align: right;\n    }\n</style>\n<table border=\"1\" class=\"dataframe\">\n  <thead>\n    <tr style=\"text-align: right;\">\n      <th></th>\n      <th>AAPL</th>\n      <th>APA</th>\n      <th>CMCSA</th>\n      <th>CPB</th>\n      <th>JCI</th>\n      <th>MO</th>\n      <th>MSFT</th>\n      <th>NVDA</th>\n      <th>TGT</th>\n    </tr>\n    <tr>\n      <th>Date</th>\n      <th></th>\n      <th></th>\n      <th></th>\n      <th></th>\n      <th></th>\n      <th></th>\n      <th></th>\n      <th></th>\n      <th></th>\n    </tr>\n  </thead>\n  <tbody>\n    <tr>\n      <th>2019-12-30</th>\n      <td>0.007280</td>\n      <td>0.003523</td>\n      <td>-0.004659</td>\n      <td>0.003446</td>\n      <td>0.001475</td>\n      <td>0.000401</td>\n      <td>0.000698</td>\n      <td>0.012745</td>\n      <td>-0.005290</td>\n    </tr>\n    <tr>\n      <th>2019-12-31</th>\n      <td>0.022560</td>\n      <td>-0.009028</td>\n      <td>0.008855</td>\n      <td>-0.018998</td>\n      <td>0.016807</td>\n      <td>-0.013312</td>\n      <td>0.018347</td>\n      <td>0.019403</td>\n      <td>-0.016832</td>\n    </tr>\n    <tr>\n      <th>2020-01-02</th>\n      <td>-0.009770</td>\n      <td>0.012929</td>\n      <td>-0.007966</td>\n      <td>-0.001238</td>\n      <td>-0.018036</td>\n      <td>0.007686</td>\n      <td>-0.012530</td>\n      <td>-0.016135</td>\n      <td>-0.010445</td>\n    </tr>\n    <tr>\n      <th>2020-01-03</th>\n      <td>0.007937</td>\n      <td>-0.001948</td>\n      <td>-0.007583</td>\n      <td>0.001651</td>\n      <td>0.012708</td>\n      <td>0.004022</td>\n      <td>0.002581</td>\n      <td>0.004185</td>\n      <td>-0.009503</td>\n    </tr>\n    <tr>\n      <th>2020-01-06</th>\n      <td>-0.004714</td>\n      <td>0.237394</td>\n      <td>0.010516</td>\n      <td>0.000623</td>\n      <td>-0.010497</td>\n      <td>-0.005231</td>\n      <td>-0.009160</td>\n      <td>0.012034</td>\n      <td>0.001779</td>\n    </tr>\n    <tr>\n      <th>...</th>\n      <td>...</td>\n      <td>...</td>\n      <td>...</td>\n      <td>...</td>\n      <td>...</td>\n      <td>...</td>\n      <td>...</td>\n      <td>...</td>\n      <td>...</td>\n    </tr>\n    <tr>\n      <th>2022-12-22</th>\n      <td>-0.002802</td>\n      <td>0.055703</td>\n      <td>0.009148</td>\n      <td>0.008063</td>\n      <td>-0.000468</td>\n      <td>0.009998</td>\n      <td>0.002264</td>\n      <td>-0.008709</td>\n      <td>0.012654</td>\n    </tr>\n    <tr>\n      <th>2022-12-23</th>\n      <td>-0.013976</td>\n      <td>0.008220</td>\n      <td>-0.003992</td>\n      <td>0.004703</td>\n      <td>0.003115</td>\n      <td>0.005177</td>\n      <td>-0.007442</td>\n      <td>-0.074027</td>\n      <td>0.016627</td>\n    </tr>\n    <tr>\n      <th>2022-12-27</th>\n      <td>-0.031166</td>\n      <td>-0.053018</td>\n      <td>-0.010917</td>\n      <td>-0.008901</td>\n      <td>-0.016939</td>\n      <td>-0.013647</td>\n      <td>-0.010308</td>\n      <td>-0.006038</td>\n      <td>0.001716</td>\n    </tr>\n    <tr>\n      <th>2022-12-28</th>\n      <td>0.027931</td>\n      <td>0.016028</td>\n      <td>0.012344</td>\n      <td>-0.005802</td>\n      <td>0.019424</td>\n      <td>0.000436</td>\n      <td>0.027255</td>\n      <td>0.039602</td>\n      <td>0.017473</td>\n    </tr>\n    <tr>\n      <th>2022-12-29</th>\n      <td>0.002466</td>\n      <td>0.016633</td>\n      <td>-0.002285</td>\n      <td>0.000705</td>\n      <td>-0.007162</td>\n      <td>-0.003494</td>\n      <td>-0.004950</td>\n      <td>0.000753</td>\n      <td>0.004505</td>\n    </tr>\n  </tbody>\n</table>\n<p>757 rows × 9 columns</p>\n</div>"
     },
     "execution_count": 28,
     "metadata": {},
     "output_type": "execute_result"
    }
   ],
   "source": [
    "R = np.log(prices.shift(-1) / prices)\n",
    "R = R.dropna()\n",
    "R"
   ],
   "metadata": {
    "collapsed": false,
    "ExecuteTime": {
     "end_time": "2024-03-09T16:22:58.209870Z",
     "start_time": "2024-03-09T16:22:58.168690800Z"
    }
   },
   "id": "305fe3dcf104c305"
  },
  {
   "cell_type": "code",
   "execution_count": 3,
   "outputs": [
    {
     "name": "stdout",
     "output_type": "stream",
     "text": [
      "1.6448536269514722\n",
      "0.95\n"
     ]
    }
   ],
   "source": [
    "# Map probability to z-score using CDF which is invertible\n",
    "p = 0.95\n",
    "print(st.norm.ppf(p))\n",
    "\n",
    "# Map z-score to probability\n",
    "z = 1.6448536269514722\n",
    "print(st.norm.cdf(z))"
   ],
   "metadata": {
    "collapsed": false,
    "ExecuteTime": {
     "end_time": "2024-03-09T07:12:23.429845Z",
     "start_time": "2024-03-09T07:12:23.359329200Z"
    }
   },
   "id": "ecd015453c5c1ad"
  },
  {
   "cell_type": "code",
   "execution_count": 32,
   "outputs": [
    {
     "name": "stdout",
     "output_type": "stream",
     "text": [
      "('t', (4.1644310634749555, 0.001094532163255329, 0.016909377199080713), 0.9403311595385474)\n",
      "('t', (5.936699904379363, 0.0016198802624012908, 0.028760128002606425), 0.7907762435972066)\n",
      "('t', (2.7472339919796402, 0.0007879531232913586, 0.013006322808994499), 0.9718413591077791)\n"
     ]
    }
   ],
   "source": [
    "### Fitting distributions to data\n",
    "\n",
    "def find_best_distribution(data):\n",
    "    \n",
    "    dist_names = [ 'norm', 'johnsonsu', 'laplace', 't' ]\n",
    "    \n",
    "    dist_params = {}\n",
    "    results = []\n",
    "    for dist_name in dist_names:\n",
    "        dist = getattr(st, dist_name)\n",
    "        params = dist.fit(data)\n",
    "        dist_params[dist_name] = params\n",
    "        res = st.kstest(data, dist_name, params)\n",
    "        results.append((dist_name, params, res.pvalue))\n",
    "    \n",
    "    return max(results, key = lambda x: x[1]) \n",
    "\n",
    "print(find_best_distribution(R['AAPL']))\n",
    "print(find_best_distribution(R['NVDA']))\n",
    "print(find_best_distribution(R['TGT']))"
   ],
   "metadata": {
    "collapsed": false,
    "ExecuteTime": {
     "end_time": "2024-03-09T16:25:19.810065600Z",
     "start_time": "2024-03-09T16:25:18.877797100Z"
    }
   },
   "id": "5363da86300c8680"
  },
  {
   "cell_type": "code",
   "execution_count": 37,
   "outputs": [
    {
     "data": {
      "text/plain": "<Figure size 640x480 with 1 Axes>",
      "image/png": "[encoded data removed]"
     },
     "metadata": {},
     "output_type": "display_data"
    }
   ],
   "source": [
    "# Display data and fitted distribution\n",
    "def plot_fitted_distribution(data, dist_name, params):\n",
    "    \n",
    "    dist = getattr(st, dist_name)\n",
    "    x = np.linspace(data.min(), data.max(), 100)\n",
    "    y = dist.pdf(x, *params)\n",
    "    \n",
    "    plt.hist(data, bins=30, density=True)\n",
    "    plt.plot(x, y, 'r--')\n",
    "    plt.title(dist_name)\n",
    "    plt.show()\n",
    "\n",
    "fitted_dist_name, params, p = find_best_distribution(R['AAPL'])\n",
    "plot_fitted_distribution(R['AAPL'], fitted_dist_name, params)"
   ],
   "metadata": {
    "collapsed": false,
    "ExecuteTime": {
     "end_time": "2024-03-09T16:27:47.201738400Z",
     "start_time": "2024-03-09T16:27:46.523690800Z"
    }
   },
   "id": "a54698cf47bbd22f"
  }
 ],
 "metadata": {
  "kernelspec": {
   "display_name": "Python 3",
   "language": "python",
   "name": "python3"
  },
  "language_info": {
   "codemirror_mode": {
    "name": "ipython",
    "version": 2
   },
   "file_extension": ".py",
   "mimetype": "text/x-python",
   "name": "python",
   "nbconvert_exporter": "python",
   "pygments_lexer": "ipython2",
   "version": "2.7.6"
  }
 },
 "nbformat": 4,
 "nbformat_minor": 5
}
